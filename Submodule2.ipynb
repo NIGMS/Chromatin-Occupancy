{
 "cells": [
  {
   "cell_type": "markdown",
   "id": "5d4fdc65",
   "metadata": {},
   "source": [
    "# Submodule 2: Preprocessing and Quality Control\n",
    "\n",
    "<img src=\"images/LessonPlan2.jpg\" alt=\"Drawing\" width=1000 />\n",
    "\n",
    "## Overview & Purpose\n",
    "\n",
    "### Overview Video 1 - Methodology and Example Data\n",
    "\n",
    "<video controls width=500 src=\"videos/ChromOccupancyVid1_wsubtitles.mp4\">animation </video>\n",
    "\n",
    "### Overview Video 2 - How to Use these Lessons\n",
    "\n",
    "<video controls width=500 src=\"videos/ChromOccupancyVid2_wsubtitles.mp4\">animation </video>\\\n",
    "\n",
    "## Filtering, Signal Visualization, and Peak Identification\n",
    "This submodule introduces concepts for post map filtering, visualization of signal, identifying binding sites by calling peaks, detection of sequence motifs, and differential peak analysis.  \n",
    "\n",
    "To demonstrate the process, we will build on the analysis performed  in submodule 1, where we preprocesses and mapped ChIP-seq, CUT&RUN, or CUT&Tag data comparing BAF inhibitor or mutant to a control sample. \n",
    "\n",
    "As a reminder, this module covers the processing of the data from three distinct but similar methods using downsampled data to improve runtime speed. The original data was published in :\n",
    "\n",
    "Weber CM, et al. mSWI/SNF promotes Polycomb repression both directly and through genome-wide redistribution. Nat Struct Mol Biol. 2021  PMID: [34117481](https://pubmed.ncbi.nlm.nih.gov/34117481/)\n",
    "\n",
    "Brahma S, Henikoff S. The BAF chromatin remodeler synergizes with RNA polymerase II and transcription factors to evict nucleosomes. Nat Genet. 2024 PMID: [38049663](https://pubmed.ncbi.nlm.nih.gov/38049663/)\n",
    "\n",
    "Note that to allow faster processing we have limited the reads to that of a single chromosome (chr4).  "
   ]
  },
  {
   "cell_type": "markdown",
   "id": "303a69b9",
   "metadata": {},
   "source": [
    "### Ways to use this module\n",
    "If you used submodule 1, you may recall how to navigate through the module. Throughout this module, we have color-coded commands according to ChIP-seq, CUT&RUN, and CUT&Tag. Therefore this module can be used to learn about the processing of each method individually, to compare each method to the others, or you can follow the colored commands to only process one type, either ChIP-seq, CUT&RUN, or CUT&Tag.\n",
    "Commands for each method will be designated by an individual logo before the command, just like the following examples"
   ]
  },
  {
   "cell_type": "markdown",
   "id": "c2e4a0ca",
   "metadata": {},
   "source": [
    "<img src=\"images/ChIPseqLogo.jpg\" alt=\"Drawing\" style=\"width: 250px;\" align=\"left\"/>"
   ]
  },
  {
   "cell_type": "code",
   "execution_count": null,
   "id": "73067bbd",
   "metadata": {},
   "outputs": [],
   "source": [
    "#run this cell for ChIP-seq\n",
    "print(\"Code for ChIP-seq will be placed after the above image. Run these cells if performing ChIP-seq analysis.\")"
   ]
  },
  {
   "cell_type": "markdown",
   "id": "1621f0ba",
   "metadata": {},
   "source": [
    "<img src=\"images/CUT&RUNLogo.jpg\" alt=\"Drawing\" style=\"width: 250px;\" align=\"left\"/>"
   ]
  },
  {
   "cell_type": "code",
   "execution_count": null,
   "id": "c2643cda",
   "metadata": {},
   "outputs": [],
   "source": [
    "#run this cell for CUT&RUN\n",
    "print(\"Code for CUT&RUN will be placed after the above image. Run these cells if performing CUT&RUN analysis.\")"
   ]
  },
  {
   "cell_type": "markdown",
   "id": "c2edfd70",
   "metadata": {},
   "source": [
    "<img src=\"images/CUT&TagLogo.jpg\" alt=\"Drawing\" style=\"width: 250px;\" align=\"left\"/>"
   ]
  },
  {
   "cell_type": "code",
   "execution_count": null,
   "id": "dc75cf10",
   "metadata": {},
   "outputs": [],
   "source": [
    "#run this cell for CUT&Tag\n",
    "print(\"Code for CUT&Tag will be placed after the above image. Run these cells if performing CUT&Tag analysis.\")"
   ]
  },
  {
   "cell_type": "markdown",
   "id": "e5df502a",
   "metadata": {},
   "source": [
    "<div class=\"alert alert-block alert-success\" style=\"font-size:100%\">\n",
    "<span style=\"color:black\"> By following the colors/images, you can run one, two, or all three types of analyses.</span>\n",
    "</div>"
   ]
  },
  {
   "cell_type": "markdown",
   "id": "1f5c2622",
   "metadata": {},
   "source": [
    "### Required Files\n",
    "In this stage of the module, you will use the sam files that are the output from submodule 1 (We also provide them if you skipped submodule 1). You can also use this module on your own data or any published ChIP-seq, CUT&RUN, or CUT&Tag dataset. \n",
    "\n",
    "<div class=\"alert-info\" style=\"font-size:200%\">\n",
    "STEP 1: Set Up Environment\n",
    "</div>\n",
    "\n",
    "Initial items to configure your Cloud environment. In this step we will use conda to install the following packages:\n",
    "\n",
    "Quality filtering and deduplication:\n",
    "[samtools](https://anaconda.org/bioconda/samtools), [picard](https://anaconda.org/bioconda/picard)\n",
    "\n",
    "Paired-end filtering and computing coverage:\n",
    "[bedtools](https://bedtools.readthedocs.io/en/latest/index.html#)\n",
    "\n",
    "Visualization:\n",
    "[igv-notebook](https://igv.org/), [deeptools](https://deeptools.readthedocs.io/en/develop/)\n",
    "\n",
    "Peak identification:\n",
    "[macs3](https://github.com/macs3-project/MACS) [seacr](https://github.com/FredHutch/SEACR)\n",
    "\n",
    "Motif analysis:\n",
    "[Homer](http://homer.ucsd.edu/homer/motif/)\n",
    "\n",
    "Differential peak calling:\n",
    "[MAnorm](https://github.com/shao-lab/MAnorm)"
   ]
  },
  {
   "cell_type": "code",
   "execution_count": null,
   "id": "fd1e08bd-33e9-4586-af5a-dd2cdb1ec6da",
   "metadata": {},
   "outputs": [],
   "source": [
    "#First let's install mamba to configure our environment\n",
    "! curl -L -O \"https://github.com/conda-forge/miniforge/releases/latest/download/Miniforge3-$(uname)-$(uname -m).sh\"\n",
    "! bash Miniforge3-$(uname)-$(uname -m).sh -u -b -p $HOME/mambaforge\n",
    "print(\"done\")"
   ]
  },
  {
   "cell_type": "code",
   "execution_count": null,
   "id": "066719b9",
   "metadata": {},
   "outputs": [],
   "source": [
    "#now let's install several required packages\n",
    "!mamba install -c bioconda picard samtools deeptools bedtools==2.27 ucsc-bedgraphtobigwig macs3 seacr meme manorm -y\n",
    "!pip install jupyterquiz==2.0.7 jupytercards\n",
    "!pip install --user igv-notebook\n",
    "print(\"done\")"
   ]
  },
  {
   "cell_type": "markdown",
   "id": "10ab9f1d-c489-40be-97b8-f426ac1bb4aa",
   "metadata": {},
   "source": [
    "<div class=\"alert alert-block alert-warning\" style=\"font-size:100%\">\n",
    "<span style=\"color:black\"> The next cell will restart the kernel, so you will see the following message once you run the cell. When this image appears, click okay, and then keep going onto the next cell.</span>\n",
    "</div>\n",
    "\n",
    "<img src=\"./images/restartkernel.jpg\" alt=\"Drawing\" style=\"width: 500px;\" align=\"left\"/>"
   ]
  },
  {
   "cell_type": "code",
   "execution_count": null,
   "id": "b81ccb92-b83a-41ed-b517-872874ccfd90",
   "metadata": {},
   "outputs": [],
   "source": [
    "#Restarts the kernel to implement changes \n",
    "import os\n",
    "os._exit(00)"
   ]
  },
  {
   "cell_type": "markdown",
   "id": "b303651f-ec9f-4f21-b88f-e679ec7f29a1",
   "metadata": {},
   "source": [
    "<div class=\"alert alert-block alert-warning\" style=\"font-size:100%\">\n",
    "<span style=\"color:black\"> After the kernel restarts continue from here.</span>\n",
    "</div>"
   ]
  },
  {
   "cell_type": "code",
   "execution_count": null,
   "id": "59dee8b8-2ac4-45e1-a614-1e0feacdd761",
   "metadata": {},
   "outputs": [],
   "source": [
    "#Now let's import packages that we installed\n",
    "numthreads=!lscpu | grep '^CPU(s)'| awk '{print $2-1}'\n",
    "numthreadsint = int(numthreads[0])\n",
    "import sys\n",
    "import os\n",
    "from jupyterquiz import display_quiz\n",
    "from IPython.display import IFrame\n",
    "#from IPython.display import display\n",
    "from IPython.display import Image\n",
    "from jupytercards import display_flashcards\n",
    "import igv_notebook\n",
    "import pandas as pd\n",
    "#import modules for matching-type quiz\n",
    "%cd questions\n",
    "from quiz_module import run_quiz\n",
    "%cd ../\n",
    "import json\n",
    "import ipywidgets as widgets\n",
    "from IPython.display import display\n",
    "import random\n",
    "print(\"done\")"
   ]
  },
  {
   "cell_type": "code",
   "execution_count": null,
   "id": "fa96fcf0-8492-43f5-b3d5-0a957e90ca37",
   "metadata": {},
   "outputs": [],
   "source": [
    "wd=\"~/SageMaker/SandboxChromatinOccupancy\"\n",
    "%cd $wd\n",
    "#show which folder you are working in. \n",
    "!pwd"
   ]
  },
  {
   "cell_type": "code",
   "execution_count": null,
   "id": "3c744cbf",
   "metadata": {},
   "outputs": [],
   "source": [
    "# These commands move into our Tutorial 2 directory and create our subdirectory structure.\n",
    "!mkdir -p $wd/Submodule2/\n",
    "%cd $wd/Submodule2/\n",
    "!mkdir -p $wd/Submodule2/Filtering\n",
    "!mkdir -p $wd/Submodule2/Visualization\n",
    "!mkdir -p $wd/Submodule2/Peaks\n",
    "!mkdir -p $wd/Submodule2/Motifs"
   ]
  },
  {
   "cell_type": "code",
   "execution_count": null,
   "id": "95e56568-eca4-4e86-a70e-fa221b4fa14c",
   "metadata": {},
   "outputs": [],
   "source": [
    "#Let's copy and extract our tutorial files\n",
    "!wget https://chromatinoccupancytutorial.s3.us-east-2.amazonaws.com/Submodule2.zip\n",
    "!unzip Submodule2.zip\n",
    "print(\"done\")"
   ]
  },
  {
   "cell_type": "markdown",
   "id": "a49d8f7a",
   "metadata": {},
   "source": [
    "<div class=\"alert-info\" style=\"font-size:200%\">\n",
    "STEP 2: Filter and convert sam files to bam or bed files\n",
    "</div>\n",
    "\n",
    "In submodule 1, we introduced the sam format. \n",
    "\n",
    "<img src=\"images/samformat.jpg\" alt=\"Drawing\" style=\"width: 800px;\"/>\n",
    "\n",
    "We'll start by filtering out low quality mappings, sort the file by chromosomal coordinate, and output the result as a bam file or a paired-end bed file. We will use the bed files particularly for CUT&RUN and CUT&Tag analysis. "
   ]
  },
  {
   "cell_type": "markdown",
   "id": "b81c5780",
   "metadata": {},
   "source": [
    "<img src=\"images/ChIPseqLogo.jpg\" alt=\"Drawing\" style=\"width: 100px;\" align=\"left\" /> Run the following command for ChIP-seq, which lists the sam files we will use."
   ]
  },
  {
   "cell_type": "code",
   "execution_count": null,
   "id": "0c1a1d83",
   "metadata": {},
   "outputs": [],
   "source": [
    "#list the files in ChIPseqSam which we just downloaded.\n",
    "!ls $wd/Submodule2/Submodule2/ChIPSeqSam"
   ]
  },
  {
   "cell_type": "code",
   "execution_count": null,
   "id": "c5434ceb",
   "metadata": {},
   "outputs": [],
   "source": [
    "# This will convert to bam by using samtools view with the -b option. The h and S option tells samtools that the file has a header and is in sam format. We will pipe this to samtools sort. Pay attention to the \"-\" at the end of the sort command which tells samtools to use stdin.\n",
    "!samtools view -q 10 -bhS $wd/Submodule2/Submodule2/ChIPSeqSam/H3K27ac_ChIPseq_noaux.sam | samtools sort -o $wd/Submodule2/Filtering/H3K27ac_ChIPseq_noaux.bam - \n",
    "print(\"done with H3K27ac_ChIPseq_noaux\")\n",
    "#We'll do the same command for our bafi sample.\n",
    "!samtools view -q 10 -bhS $wd/Submodule2/Submodule2/ChIPSeqSam/H3K27ac_ChIPseq_aux.sam | samtools sort -o $wd/Submodule2/Filtering/H3K27ac_ChIPseq_aux.bam - \n",
    "print(\"done with H3K27ac_ChIPseq_aux\")"
   ]
  },
  {
   "cell_type": "markdown",
   "id": "319c060a",
   "metadata": {},
   "source": [
    "You may have noticed the parameters -bhS and -q 10 in the above commands. Briefly, -bhS describes aspects of the file to samtools, such that you want to output a bam file (the b option), that it has a header (the h option), and that it is currently in sam format (the S option). We also specified -q 10 which removes reads with a mapping score <= 10. \n",
    "\n",
    "</div>In the cell below, let's view the first line of one of our bam files:"
   ]
  },
  {
   "cell_type": "code",
   "execution_count": null,
   "id": "6f198d96",
   "metadata": {},
   "outputs": [],
   "source": [
    "!samtools view $wd/Submodule2/Filtering/H3K27ac_ChIPseq_noauxdedup.bam | head -n 3\n",
    "# Note that there will be an error message because we are breaking a pipe by printing only the first 3 lines. Please ignore the error message."
   ]
  },
  {
   "cell_type": "markdown",
   "id": "7026537b",
   "metadata": {},
   "source": [
    "<img src=\"images/CUT&RUNLogo.jpg\" alt=\"Drawing\" style=\"width: 120px;\" align=\"left\"/> Run the following command for CUT&RUN, which lists the sam files we will use."
   ]
  },
  {
   "cell_type": "code",
   "execution_count": null,
   "id": "cec9ee99",
   "metadata": {},
   "outputs": [],
   "source": [
    "#list the files in CUTnRUNSam which we just downloaded.\n",
    "!ls $wd/Submodule2/Submodule2/CUTnRUNsam"
   ]
  },
  {
   "cell_type": "markdown",
   "id": "1df8945d",
   "metadata": {},
   "source": [
    " You will notice that in addition to the mm39 sam files (mapped to mouse genome), we have additional sam files mapped to R64-1-1 (Saccharomyces cereviseae a.k.a the budding yeast) genome. These are for spike-in reads. In CUT&RUN and CUT&Tag, users add a constant and tiny amount of pre-fragmented heterogous DNA as \"spike-in\" (e.g., yeast spike-in for experiments targeting protein in mouse cells) to quantitatively compare signals or reads from the target genome. This helps to account for differences in cell number, DNA purification, library preparation, and sequencing efficiencies between controls and treatment sets. See PMID: PMID: [34117481](https://pubmed.ncbi.nlm.nih.gov/34117481/) "
   ]
  },
  {
   "cell_type": "code",
   "execution_count": null,
   "id": "cf35e1fb",
   "metadata": {},
   "outputs": [],
   "source": [
    "# This will convert the mm39 (mouse)sam files first to bam files by using samtools view with the -b option. The h option tells samtools that the file has a header. We will then conver the bam files to paired-end bed files using bamtobed and -bedpe option.\n",
    "!samtools view -b -h $wd/Submodule2/Submodule2/CUTnRUNsam/BRG1_CnR_con.mm39_chr4.sam -o $wd/Submodule2/Filtering/BRG1_CnR_con.mm39_chr4.bam\n",
    "!bedtools bamtobed -bedpe -i $wd/Submodule2/Filtering/BRG1_CnR_con.mm39_chr4.bam | cut -f 1,2,6 | sort -k1,1 -k2,2n -k3,3n > $wd/Submodule2/Filtering/BRG1_CnR_con.mm39_chr4.bed\n",
    "print(\"done with BRG1_CnR_con\")"
   ]
  },
  {
   "cell_type": "markdown",
   "id": "01169db7",
   "metadata": {},
   "source": [
    "</div>In the cell below, let's view the first few lines of the bed file to see how they look.\n",
    "</div>\n",
    "\n",
    "</div>Note: the first column (\"chrom\") denotes the chromosome number to which the reads mapped, the second and the third columns show the first and the last base pair positions of mapped fragment, \"chromStart\" and \"chromEnd\", respectively. Remember, we used paired-end sequencing, so we can obtain the coordinates of both the beginining an the end of each mapped fragment. This is the minimum requirement for a bed file. There can be up to 9 more columns. What are information can be there in a bed file? Learn more: [UCSC_BED_format] (https://genome.ucsc.edu/FAQ/FAQformat.html#format1)"
   ]
  },
  {
   "cell_type": "code",
   "execution_count": null,
   "id": "4f868e12",
   "metadata": {},
   "outputs": [],
   "source": [
    "!head $wd/Submodule2/Filtering/BRG1_CnR_con.mm39_chr4.bed"
   ]
  },
  {
   "cell_type": "code",
   "execution_count": null,
   "id": "dca1c42d",
   "metadata": {},
   "outputs": [],
   "source": [
    "#Now let's make the bam and bed files for the treatment and IgG data.\n",
    "#This may take a few minutes: 🕘\n",
    "\n",
    "!samtools view -b -h $wd/Submodule2/Submodule2/CUTnRUNsam/BRG1_CnR_FLV.mm39_chr4.sam -o $wd/Submodule2/Filtering/BRG1_CnR_FLV.mm39_chr4.bam\n",
    "!bedtools bamtobed -bedpe -i $wd/Submodule2/Filtering/BRG1_CnR_FLV.mm39_chr4.bam | cut -f 1,2,6 | sort -k1,1 -k2,2n -k3,3n > $wd/Submodule2/Filtering/BRG1_CnR_FLV.mm39_chr4.bed\n",
    "print(\"done with BRG1_CnR_FLV\")\n",
    "\n",
    "!samtools view -b -h $wd/Submodule2/Submodule2/CUTnRUNsam/IgG_CnR.mm39_chr4.sam -o $wd/Submodule2/Filtering/IgG_CnR.mm39_chr4.bam\n",
    "!bedtools bamtobed -bedpe -i $wd/Submodule2/Filtering/IgG_CnR.mm39_chr4.bam | cut -f 1,2,6 | sort -k1,1 -k2,2n -k3,3n > $wd/Submodule2/Filtering/IgG_CnR.mm39_chr4.bed\n",
    "print(\"done with IgG_CnR\")"
   ]
  },
  {
   "cell_type": "code",
   "execution_count": null,
   "id": "e9360cc6",
   "metadata": {},
   "outputs": [],
   "source": [
    "#Let's make the spike-in bed files.\n",
    "!samtools view -b -h $wd/Submodule2/Submodule2/CUTnRUNsam/BRG1_CnR_con.R64-1-1.sam -o $wd/Submodule2/Filtering/BRG1_CnR_con.R64-1-1.bam\n",
    "!bedtools bamtobed -bedpe -i $wd/Submodule2/Filtering/BRG1_CnR_con.R64-1-1.bam | cut -f 1,2,6 | sort -k1,1 -k2,2n -k3,3n > $wd/Submodule2/Filtering/BRG1_CnR_con.R64-1-1.bed\n",
    "print(\"done with BRG1_CnR_con\")\n",
    "\n",
    "!samtools view -b -h $wd/Submodule2/Submodule2/CUTnRUNsam/BRG1_CnR_FLV.R64-1-1.sam -o $wd/Submodule2/Filtering/BRG1_CnR_FLV.R64-1-1.bam\n",
    "!bedtools bamtobed -bedpe -i $wd/Submodule2/Filtering/BRG1_CnR_FLV.R64-1-1.bam | cut -f 1,2,6 | sort -k1,1 -k2,2n -k3,3n > $wd/Submodule2/Filtering/BRG1_CnR_FLV.R64-1-1.bed\n",
    "print(\"done with BRG1_CnR_FLV\")\n",
    "\n",
    "!samtools view -b -h $wd/Submodule2/Submodule2/CUTnRUNsam/IgG_CnR.R64-1-1.sam -o $wd/Submodule2/Filtering/IgG_CnR.R64-1-1.bam\n",
    "!bedtools bamtobed -bedpe -i $wd/Submodule2/Filtering/IgG_CnR.R64-1-1.bam | cut -f 1,2,6 | sort -k1,1 -k2,2n -k3,3n > $wd/Submodule2/Filtering/IgG_CnR.R64-1-1.bed\n",
    "print(\"done with IgG_CnR\")"
   ]
  },
  {
   "cell_type": "markdown",
   "id": "044d4dda",
   "metadata": {},
   "source": [
    "<img src=\"images/CUT&TagLogo.jpg\" alt=\"Drawing\" style=\"width: 120px;\" align=\"left\"/> Run the following command for CUT&Tag, which lists the sam files we will use."
   ]
  },
  {
   "cell_type": "code",
   "execution_count": null,
   "id": "dd2d94a3",
   "metadata": {},
   "outputs": [],
   "source": [
    "#list the files in CUTnTagSam which we just downloaded.\n",
    "!ls $wd/Submodule2/Submodule2/CUTnTagSam"
   ]
  },
  {
   "cell_type": "markdown",
   "id": "e98cd373",
   "metadata": {},
   "source": [
    "You will notice that in addition to the mm39 sam files (mapped to mouse genome), we have additional sam files mapped to ecoli genome. These are for spike-in reads. In CUT&RUN and CUT&Tag, users add/take advantage of a constant and tiny amount of pre-fragmented heterogous DNA as \"spike-in\" (e.g., ecoli spike-in which is carried over with the pA-Tn5 in CUT&Tag experiments) to quantitatively compare signals or reads from the target genome. This helps to account for differences in cell number, DNA purification, library preparation, and sequencing efficiencies between controls and treatment sets. See PMID: [31036827](https://pubmed.ncbi.nlm.nih.gov/31036827/)"
   ]
  },
  {
   "cell_type": "code",
   "execution_count": null,
   "id": "ceffa276",
   "metadata": {},
   "outputs": [],
   "source": [
    "# This will convert the mm39 (mouse)sam files first to bam files by using samtools view with the -b option. The h option tells samtools that the file has a header. We will then conver the bam files to paired-end bed files using bamtobed and -bedpe option.\n",
    "!samtools view -b -h $wd/Submodule2/Submodule2/CUTnTagSam/RNAPII-S5P_CnT_con.mm39_chr4.sam -o $wd/Submodule2/Filtering/RNAPII-S5P_CnT_con.mm39_chr4.bam\n",
    "!bedtools bamtobed -bedpe -i $wd/Submodule2/Filtering/RNAPII-S5P_CnT_con.mm39_chr4.bam | cut -f 1,2,6 | sort -k1,1 -k2,2n -k3,3n > $wd/Submodule2/Filtering/RNAPII-S5P_CnT_con.mm39_chr4.bed\n",
    "print(\"done with RNAPII-S5P_CnT_con\")"
   ]
  },
  {
   "cell_type": "markdown",
   "id": "5e1463f0",
   "metadata": {},
   "source": [
    "</div>In the cell below, let's view the first few lines of the bed file to see how they look.\n",
    "</div>\n",
    "</div>Note: the first column (\"chrom\") denotes the chromosome number to which the reads mapped, the second and the third columns show the first and the last base pair positions of mapped fragment, \"chromStart\" and \"chromEnd\", respectively. Remember, we used paired-end sequencing, so we can obtain the coordinates of both the beginining an the end of each mapped fragment. This is the minimum requirement for a bed file. There can be up to 9 more columns. What are information can be there in a bed file? Learn more: [UCSC_BED_format] (https://genome.ucsc.edu/FAQ/FAQformat.html#format1)"
   ]
  },
  {
   "cell_type": "code",
   "execution_count": null,
   "id": "cf618cf6",
   "metadata": {},
   "outputs": [],
   "source": [
    "!head $wd/Submodule2/Filtering/RNAPII-S5P_CnT_con.mm39_chr4.bed"
   ]
  },
  {
   "cell_type": "code",
   "execution_count": null,
   "id": "79b931ac",
   "metadata": {},
   "outputs": [],
   "source": [
    "#Let's make the bam and bed files for the treatment and IgG data.\n",
    "#This may take a few minutes: 🕘\n",
    "\n",
    "!samtools view -b -h $wd/Submodule2/Submodule2/CUTnTagSam/RNAPII-S5P_CnT_FLV.mm39_chr4.sam -o $wd/Submodule2/Filtering/RNAPII-S5P_CnT_FLV.mm39_chr4.bam\n",
    "!bedtools bamtobed -bedpe -i $wd/Submodule2/Filtering/RNAPII-S5P_CnT_FLV.mm39_chr4.bam | cut -f 1,2,6 | sort -k1,1 -k2,2n -k3,3n > $wd/Submodule2/Filtering/RNAPII-S5P_CnT_FLV.mm39_chr4.bed\n",
    "print(\"done with RNAPII-S5P_CnT_FLV\")\n",
    "\n",
    "!samtools view -b -h $wd/Submodule2/Submodule2/CUTnTagSam/IgG_CnT.mm39_chr4.sam -o $wd/Submodule2/Filtering/IgG_CnT.mm39_chr4.bam\n",
    "!bedtools bamtobed -bedpe -i $wd/Submodule2/Filtering/IgG_CnT.mm39_chr4.bam | cut -f 1,2,6 | sort -k1,1 -k2,2n -k3,3n > $wd/Submodule2/Filtering/IgG_CnT.mm39_chr4.bed\n",
    "print(\"done with IgG_CnT\")"
   ]
  },
  {
   "cell_type": "code",
   "execution_count": null,
   "id": "be7b3d39",
   "metadata": {},
   "outputs": [],
   "source": [
    "#Now let's make the spike-in bed files.\n",
    "!samtools view -b -h $wd/Submodule2/Submodule2/CUTnTagSam/RNAPII-S5P_CnT_con.ecoli.sam -o $wd/Submodule2/Filtering/RNAPII-S5P_CnT_con.ecoli.bam\n",
    "!bedtools bamtobed -bedpe -i $wd/Submodule2/Filtering/RNAPII-S5P_CnT_con.ecoli.bam | cut -f 1,2,6 | sort -k1,1 -k2,2n -k3,3n > $wd/Submodule2/Filtering/RNAPII-S5P_CnT_con.ecoli.bed\n",
    "print(\"done with RNAPII-S5P_CnT_con\")\n",
    "\n",
    "!samtools view -b -h $wd/Submodule2/Submodule2/CUTnTagSam/RNAPII-S5P_CnT_FLV.ecoli.sam -o $wd/Submodule2/Filtering/RNAPII-S5P_CnT_FLV.ecoli.bam\n",
    "!bedtools bamtobed -bedpe -i $wd/Submodule2/Filtering/RNAPII-S5P_CnT_FLV.ecoli.bam | cut -f 1,2,6 | sort -k1,1 -k2,2n -k3,3n > $wd/Submodule2/Filtering/RNAPII-S5P_CnT_FLV.ecoli.bed\n",
    "print(\"done with RNAPII-S5P_CnT_FLV\")\n",
    "\n",
    "!samtools view -b -h $wd/Submodule2/Submodule2/CUTnTagSam/IgG_CnT.ecoli.sam -o $wd/Submodule2/Filtering/IgG_CnT.ecoli.bam\n",
    "!bedtools bamtobed -bedpe -i $wd/Submodule2/Filtering/IgG_CnT.ecoli.bam | cut -f 1,2,6 | sort -k1,1 -k2,2n -k3,3n > $wd/Submodule2/Filtering/IgG_CnT.ecoli.bed\n",
    "print(\"done with IgG_CnT\")"
   ]
  },
  {
   "cell_type": "markdown",
   "id": "910f59a7",
   "metadata": {},
   "source": [
    "<div class=\"alert-info\" style=\"font-size:200%\">\n",
    "Interactive Quiz Question: Click on the correct answer in the following cell.\n",
    "</div>"
   ]
  },
  {
   "cell_type": "code",
   "execution_count": null,
   "id": "3b9bf9f9",
   "metadata": {},
   "outputs": [],
   "source": [
    "%cd $wd/Submodule2\n",
    "display_quiz(\"../questions/mappingquality.json\")"
   ]
  },
  {
   "cell_type": "markdown",
   "id": "4997313e",
   "metadata": {},
   "source": [
    "<div class=\"alert-info\" style=\"font-size:200%\">\n",
    "STEP 3: Removal of Duplicates\n",
    "</div>\n",
    "It's important to remove duplicates from our reads because part of the ChIP-seq method includes a PCR step for library amplification. This can create biases in the data resulting from PCR duplicates. To understand how PCR duplicates can affect the analysis, let's jump ahead a bit. Occupancy is represented by \"peaks\" of signal.\n",
    "\n",
    "<img src=\"images/peaksofsignal.jpg\" alt=\"Drawing\" style=\"width: 500px;\"/>\n",
    "\n",
    "<div class=\"alert-warning\" style=\"font-size:200%\">\n",
    "    \n",
    "    \n",
    "<img src=\"images/CUT&RUNLogo.jpg\" alt=\"Drawing\" style=\"width: 120px;\" align=\"left\"/>\n",
    "    \n",
    "<div class=\"alert-warning\" style=\"font-size:50%\">\n",
    "</div>\n",
    "NOTE for CUT&RUN and CUT&Tag\n",
    "</div>\n",
    "It is not so important to remove duplicates from CUT&RUN or CUT&Tag data because CUT&RUN and CUT&Tag library prepation typically involves fewer PCR cycles, so the chance of PCR duplicates is low!\n",
    "</div>\n"
   ]
  },
  {
   "cell_type": "markdown",
   "id": "85b76097",
   "metadata": {},
   "source": [
    "<div class=\"alert-info\" style=\"font-size:200%\">\n",
    "Interactive Quiz Question: Click on the correct answer in the following cell.\n",
    "</div>"
   ]
  },
  {
   "cell_type": "code",
   "execution_count": null,
   "id": "40dc1c20",
   "metadata": {},
   "outputs": [],
   "source": [
    "%cd $wd/Submodule2\n",
    "display_quiz(\"../questions/duplicateQuiz.json\")"
   ]
  },
  {
   "cell_type": "markdown",
   "id": "86f39a31",
   "metadata": {},
   "source": [
    "<img src=\"images/ChIPseqLogo.jpg\" alt=\"Drawing\" style=\"width: 100px;\" align=\"left\" /> Run the following command for ChIP-seq, which lists the sam files we will use."
   ]
  },
  {
   "cell_type": "markdown",
   "id": "5e5a98d2",
   "metadata": {},
   "source": [
    "Okay, let's remove these duplicates using picard."
   ]
  },
  {
   "cell_type": "code",
   "execution_count": null,
   "id": "0bb199ac",
   "metadata": {},
   "outputs": [],
   "source": [
    "%cd $wd/Submodule2\n",
    "# This will take the sorted bam file and remove duplicates, saving a new bam file and a summary in a text file.\n",
    "!picard MarkDuplicates REMOVE_DUPLICATES=TRUE I=Filtering/H3K27ac_ChIPseq_noaux.bam O=Filtering/H3K27ac_ChIPseq_noauxdedup.bam METRICS_FILE=Filtering/H3K27ac_ChIPseq_ctldedup_metrics.txt 2> Filtering/PicardLog.txt\n",
    "print(\"done with H3K27ac_ChIPseq_noaux\")\n",
    "#Let's do it again, this time for bafi.\n",
    "!picard MarkDuplicates REMOVE_DUPLICATES=TRUE I=Filtering/H3K27ac_ChIPseq_aux.bam O=Filtering/H3K27ac_ChIPseq_auxdedup.bam METRICS_FILE=Filtering/H3K27ac_ChIPseq_auxdedup_metrics.txt 2> Filtering/PicardLog.txt\n",
    "print(\"done with H3K27ac_ChIPseq_aux\")"
   ]
  },
  {
   "cell_type": "markdown",
   "id": "28b46a43-16a2-4b43-af41-b93555ba767f",
   "metadata": {},
   "source": [
    "<div class=\"alert-info\" style=\"font-size:200%\">\n",
    "Interactive Quiz Question: Match the tool that we used for each step in the analysis.\n",
    "</div>"
   ]
  },
  {
   "cell_type": "code",
   "execution_count": null,
   "id": "1b7489b6-808a-43a8-9da1-32734c0aa3c2",
   "metadata": {},
   "outputs": [],
   "source": [
    "#Run for the quiz\n",
    "%cd $wd/Submodule2\n",
    "run_quiz(\"../questions/postprocessingtools.json\", instant_feedback=True, shuffle_questions=False, shuffle_answers=True)"
   ]
  },
  {
   "cell_type": "markdown",
   "id": "7923e0c7",
   "metadata": {},
   "source": [
    "<div class=\"alert-info\" style=\"font-size:200%\">\n",
    "STEP 4: Visualization\n",
    "</div>\n"
   ]
  },
  {
   "cell_type": "markdown",
   "id": "9829a870",
   "metadata": {},
   "source": [
    "### We have previously learnt that we can see the coordinates of each read in the bam or bed files. However, this can be tideous and not practical for datasets with millions of reads. We need a better way of visualizing the results.\n",
    "### In this step we will create files that summarize the pileup of reads at each base-pair along our genome, in [bedgraph](https://genome.ucsc.edu/goldenpath/help/bedgraph.html) or [bigwig](https://genome.ucsc.edu/goldenpath/help/bigWig.html) formats. \n",
    "\n",
    "For ChIP-seq datasets, we will create bigwig files using the command bamCoverage, part of the [deeptools](https://deeptools.readthedocs.io/en/develop/) package.\n",
    "\n",
    "For CUT&RUN and CUT&Tag datasets, we will create paired-end bedgraph files using the command genomecov, part of the [bedtools](https://bedtools.readthedocs.io/en/latest/content/tools/genomecov.html) package.\n",
    "\n",
    "<img src=\"images/balance.jpg\" alt=\"Drawing\" style=\"width: 100px;\"/>\n",
    "\n",
    "But first, let's talk about normalization.  What would these look like if we sequenced 100 million reads for one sample but only 1 million reads for another? \n",
    "\n",
    "We need to normalize  or calibrate our signal.\n",
    "\n",
    "For ChIP-seq, we can normalize signal by the depth of sequencing. We can do so by dividing the count of reads at each coordinate by the total (per million). We can do this at the same time as creating the bigwig.\n",
    "\n",
    "For CUT&RUN and CUT&Tag, we will calibrate signals by factoring spike-in reads. We will do this at the same time as creating the bedgraph."
   ]
  },
  {
   "cell_type": "markdown",
   "id": "bc9e9dba",
   "metadata": {},
   "source": [
    "<img src=\"images/ChIPseqLogo.jpg\" alt=\"Drawing\" style=\"width: 100px;\" align=\"left\" /> Run the following command for ChIP-seq datasets.\n",
    "<div>This may take a few minutes: 🕘"
   ]
  },
  {
   "cell_type": "code",
   "execution_count": null,
   "id": "8e53ebd0",
   "metadata": {},
   "outputs": [],
   "source": [
    "# First we need to create an index of our bam file.\n",
    "!samtools index $wd/Submodule2/Filtering/H3K27ac_ChIPseq_noauxdedup.bam\n",
    "\n",
    "# Then we can create a bigwig file of the control sample.\n",
    "!bamCoverage -b $wd/Submodule2/Filtering/H3K27ac_ChIPseq_noauxdedup.bam -o $wd/Submodule2/Visualization/H3K27ac_ChIPseq_noauxdedup.bw -bs 50 --normalizeUsing BPM 2> $wd/Submodule2/Visualization/bamCovLog_noaux.txt\n",
    "print(\"done with H3K27ac_ChIPseq_noaux\")\n",
    "\n",
    "# Now let's rerun the commands for our other sample.\n",
    "!samtools index $wd/Submodule2/Filtering/H3K27ac_ChIPseq_auxdedup.bam\n",
    "!bamCoverage -b $wd/Submodule2/Filtering/H3K27ac_ChIPseq_auxdedup.bam -o $wd/Submodule2/Visualization/H3K27ac_ChIPseq_auxdedup.bw -bs 50 --normalizeUsing BPM 2> $wd/Submodule2/Visualization/bamCovLog_aux.txt\n",
    "\n",
    "print(\"done with H3K27ac_ChIPseq_aux\")"
   ]
  },
  {
   "cell_type": "markdown",
   "id": "ceef500a",
   "metadata": {},
   "source": [
    "In the above examples we specify the bam file name after -b and the output file name after -o. \n",
    "\n",
    "We specified -bs 50, which tells bamCoverage to summarize the reads at 50 bp resolution.\n",
    "\n",
    "You could also specify the number of threads to use with -p.\n",
    "\n",
    "Lastly, we specified --normalizeUsing BPM. BPM stands for Bins Per Million mapped reads. What do you think this normalization does?\n",
    "\n",
    "<div class=\"alert-info\" style=\"font-size:200%\">\n",
    "Interactive Quiz Question: Click on the correct answer in following cell.\n",
    "</div>"
   ]
  },
  {
   "cell_type": "code",
   "execution_count": null,
   "id": "e5c28166",
   "metadata": {},
   "outputs": [],
   "source": [
    "%cd $wd/Submodule2\n",
    "display_quiz(\"../questions/BPMnorm.json\")"
   ]
  },
  {
   "cell_type": "markdown",
   "id": "d4ca9524",
   "metadata": {},
   "source": [
    "<div class=\"alert-info\" style=\"font-size:150%\">\n",
    "How does spike-in calibration work?\n",
    "</div>\n",
    "In the example below, although sample A and sample B have about the same amounts of experimental DNA, sample B has more spike-in DNA which results in lower enrichment of expermental reads.\n",
    "For spike-in calibration, we need to first count the number of spike-in reads in each sample."
   ]
  },
  {
   "cell_type": "markdown",
   "id": "019e4e91",
   "metadata": {},
   "source": [
    "<img src=\"images/spike-in.jpg\" alt=\"Drawing\" style=\"width: 300px;\"/>"
   ]
  },
  {
   "cell_type": "markdown",
   "id": "ecc66087",
   "metadata": {},
   "source": [
    "<img src=\"images/CUT&RUNLogo.jpg\" alt=\"Drawing\" style=\"width: 120px;\" align=\"left\"/> Run the following command for CUT&RUN datasets.\n",
    "<div>We will first need to calculate the calibration factor for each sample by dividing a large constant number, such as 10,000, by the count of spike-in reads"
   ]
  },
  {
   "cell_type": "code",
   "execution_count": null,
   "id": "084d18a6",
   "metadata": {},
   "outputs": [],
   "source": [
    "#In order to calibrate mapped mm39 reads by spike-in reads, we will compute a calibration factor by dividing a large constant number, such as 10,000, by the count of spike-in reads\n",
    "print (\"calibrartion factor for BRG1_CnR_con is\")\n",
    "!bc -l <<< \"10000 / $(cat $wd/Submodule2/Filtering/BRG1_CnR_con.R64-1-1.bed | wc -l)\"\n",
    "print (\"calibrartion factor for BRG1_CnR_FLV is\")\n",
    "!bc -l <<< \"10000 / $(cat $wd/Submodule2/Filtering/BRG1_CnR_FLV.R64-1-1.bed | wc -l)\"\n",
    "print (\"calibrartion factor for IgG_CnR is\")\n",
    "!bc -l <<< \"10000 / $(cat $wd/Submodule2/Filtering/IgG_CnR.R64-1-1.bed | wc -l)\""
   ]
  },
  {
   "cell_type": "code",
   "execution_count": null,
   "id": "96d964d6",
   "metadata": {},
   "outputs": [],
   "source": [
    "#🕘 This may take a few minutes \n",
    "#Let's make the bedgraph files using bedtools genomecov. Note that we have plugged in the claibrtaion factors as \"scale\". The bedgraph files will show the scaled coverage of reads at each genomic coordinate.\n",
    "#At the same time, we will convert the bedgraph files to bigWig format for downstream visualization\n",
    "\n",
    "!bedtools genomecov -bg -scale .12734635662073708071 -i $wd/Submodule2/Filtering/BRG1_CnR_con.mm39_chr4.bed -g $wd/Submodule2/Submodule2/GenomeAnnotations/chr_lens > $wd/Submodule2/Visualization/BRG1_CnR_con.mm39_chr4.bedgraph\n",
    "!bedGraphToBigWig $wd/Submodule2/Visualization/BRG1_CnR_con.mm39_chr4.bedgraph $wd/Submodule2/Submodule2/GenomeAnnotations/chr_lens $wd/Submodule2/Visualization/BRG1_CnR_con.mm39_chr4.bw\n",
    "print(\"done with BRG1_CnR_con\")\n",
    "!bedtools genomecov -bg -scale .11316569721386053459 -i $wd/Submodule2/Filtering/BRG1_CnR_FLV.mm39_chr4.bed -g $wd/Submodule2/Submodule2/GenomeAnnotations/chr_lens > $wd/Submodule2/Visualization/BRG1_CnR_FLV.mm39_chr4.bedgraph\n",
    "!bedGraphToBigWig $wd/Submodule2/Visualization/BRG1_CnR_FLV.mm39_chr4.bedgraph $wd/Submodule2/Submodule2/GenomeAnnotations/chr_lens $wd/Submodule2/Visualization/BRG1_CnR_FLV.mm39_chr4.bw\n",
    "print(\"done with BRG1_CnR_FLV\")\n",
    "!bedtools genomecov -bg -scale .39950461427829491430 -i $wd/Submodule2/Filtering/IgG_CnR.mm39_chr4.bed -g $wd/Submodule2/Submodule2/GenomeAnnotations/chr_lens > $wd/Submodule2/Visualization/IgG_CnR.mm39_chr4.bedgraph\n",
    "!bedGraphToBigWig $wd/Submodule2/Visualization/IgG_CnR.mm39_chr4.bedgraph $wd/Submodule2/Submodule2/GenomeAnnotations/chr_lens $wd/Submodule2/Visualization/IgG_CnR.mm39_chr4.bw\n",
    "print(\"done with IgG_CnR\")"
   ]
  },
  {
   "cell_type": "markdown",
   "id": "a9c97270",
   "metadata": {},
   "source": [
    "<img src=\"images/CUT&TagLogo.jpg\" alt=\"Drawing\" style=\"width: 120px;\" align=\"left\"/> Run the following command for CUT&Tag datasets.\n",
    "<div>We will first need to calculate the calibration factor for each sample by dividing a large constant number, such as 10,000, by the count of spike-in reads"
   ]
  },
  {
   "cell_type": "code",
   "execution_count": null,
   "id": "5600ec46",
   "metadata": {},
   "outputs": [],
   "source": [
    "#In order to calibrate mapped mm39 reads by spike-in reads, we will compute a calibration factor by dividing a large constant number, such as 10,000, by the count of spike-in reads\n",
    "print (\"calibrartion factor for RNAPII-S5P_CnT_con is\")\n",
    "!bc -l <<< \"10000 / $(cat $wd/Submodule2/Filtering/RNAPII-S5P_CnT_con.ecoli.bed | wc -l)\"\n",
    "print (\"calibrartion factor for RNAPII-S5P_CnT_FLV is\")\n",
    "!bc -l <<< \"10000 / $(cat $wd/Submodule2/Filtering/RNAPII-S5P_CnT_FLV.ecoli.bed | wc -l)\"\n",
    "print (\"calibrartion factor for IgG_CnT is\")\n",
    "!bc -l <<< \"10000 / $(cat $wd/Submodule2/Filtering/IgG_CnT.ecoli.bed | wc -l)\""
   ]
  },
  {
   "cell_type": "code",
   "execution_count": null,
   "id": "9429e05d",
   "metadata": {},
   "outputs": [],
   "source": [
    "#🕘 This may take a few minutes \n",
    "#Let's make the bedgraph files using bedtools genomecov. Note that we have plugged in the claibrtaion factors as \"scale\". The bedgraph files will show the scaled coverage of reads at each genomic coordinate. \n",
    "#At the same time, we will convert the bedgraph files to bigWig format for downstream visualization\n",
    "\n",
    "!bedtools genomecov -bg -scale 1.15633672525439407955 -i $wd/Submodule2/Filtering/RNAPII-S5P_CnT_con.mm39_chr4.bed -g $wd/Submodule2/Submodule2/GenomeAnnotations/chr_lens > $wd/Submodule2/Visualization/RNAPII-S5P_CnT_con.mm39_chr4.bedgraph\n",
    "!bedGraphToBigWig $wd/Submodule2/Visualization/RNAPII-S5P_CnT_con.mm39_chr4.bedgraph $wd/Submodule2/Submodule2/GenomeAnnotations/chr_lens $wd/Submodule2/Visualization/RNAPII-S5P_CnT_con.mm39_chr4.bw\n",
    "print(\"done with RNAPII-S5P_CnT_con\")\n",
    "!bedtools genomecov -bg -scale 8.81057268722466960352 -i $wd/Submodule2/Filtering/RNAPII-S5P_CnT_FLV.mm39_chr4.bed -g $wd/Submodule2/Submodule2/GenomeAnnotations/chr_lens > $wd/Submodule2/Visualization/RNAPII-S5P_CnT_FLV.mm39_chr4.bedgraph\n",
    "!bedGraphToBigWig $wd/Submodule2/Visualization/RNAPII-S5P_CnT_FLV.mm39_chr4.bedgraph $wd/Submodule2/Submodule2/GenomeAnnotations/chr_lens $wd/Submodule2/Visualization/RNAPII-S5P_CnT_FLV.mm39_chr4.bw\n",
    "print(\"done with RNAPII-S5P_CnT_FLV\")\n",
    "!bedtools genomecov -bg -scale 1.21832358674463937621 -i $wd/Submodule2/Filtering/IgG_CnT.mm39_chr4.bed -g $wd/Submodule2/Submodule2/GenomeAnnotations/chr_lens > $wd/Submodule2/Visualization/IgG_CnT.mm39_chr4.bedgraph\n",
    "!bedGraphToBigWig $wd/Submodule2/Visualization/IgG_CnT.mm39_chr4.bedgraph $wd/Submodule2/Submodule2/GenomeAnnotations/chr_lens $wd/Submodule2/Visualization/IgG_CnT.mm39_chr4.bw\n",
    "print(\"done with IgG_CnT\")"
   ]
  },
  {
   "cell_type": "markdown",
   "id": "caff8afa",
   "metadata": {},
   "source": [
    "<div class=\"alert-info\" style=\"font-size:150%\">\n",
    "Genome Browser\n",
    "</div>\n",
    "\n",
    "Now that we have our bigwig files, we can visualize the signal in a genome browser. We'll use [igv](https://igv.org/) in this example."
   ]
  },
  {
   "cell_type": "markdown",
   "id": "8ba2f20b",
   "metadata": {},
   "source": [
    "This will load in the signal into IGV and allow you to browse the genome. Feel free to play around with this. More instructions can be found on the [IGV](https://igv.org/) website.\n",
    "\n",
    "Click the \"gear\" icon on the right of each track to customize the color, name, height, etc... \n",
    "\n",
    "The default is to autoscale the tracks. But this means that our samples have different y-axis scales! Because we BPM normalized, we should set the data range to be the same for each sample.\n",
    "\n",
    "<img src=\"images/igvdatarange.jpg\" alt=\"Drawing\" style=\"width: 1000px;\"/>"
   ]
  },
  {
   "cell_type": "markdown",
   "id": "f7cfbe6b",
   "metadata": {},
   "source": [
    "<img src=\"images/ChIPseqLogo.jpg\" alt=\"Drawing\" style=\"width: 100px;\" align=\"left\" /> Run the following command for ChIP-seq datasets."
   ]
  },
  {
   "cell_type": "code",
   "execution_count": null,
   "id": "e6d57253",
   "metadata": {},
   "outputs": [],
   "source": [
    "%cd $wd/\n",
    "igv_notebook.init()\n",
    "myigv = igv_notebook.Browser(\n",
    "    {\n",
    "        \"genome\": \"mm39\",\n",
    "        \"locus\": \"chr4:44,000,000-47,000,000\"\n",
    "    }\n",
    ")\n",
    "myigv.load_track(\n",
    "{\n",
    "        \"name\": \"H3K27ac_ChIPseq_noaux\",\n",
    "        \"url\": \"Submodule2/Visualization/H3K27ac_ChIPseq_noauxdedup.bw\",\n",
    "        \"format\": \"bigwig\",\n",
    "        \"type\": \"wig\"\n",
    "    }\n",
    "    \n",
    ")\n",
    "myigv.load_track(\n",
    "{\n",
    "        \"name\": \"H3K27ac_ChIPseq_aux\",\n",
    "        \"url\": \"Submodule2/Visualization/H3K27ac_ChIPseq_auxdedup.bw\",\n",
    "        \"format\": \"bigwig\",\n",
    "        \"type\": \"wig\"\n",
    "    }\n",
    "    \n",
    ")"
   ]
  },
  {
   "cell_type": "markdown",
   "id": "59f9b844",
   "metadata": {},
   "source": [
    "<img src=\"images/CUT&RUNLogo.jpg\" alt=\"Drawing\" style=\"width: 120px;\" align=\"left\"/> Run the following command for CUT&RUN datasets."
   ]
  },
  {
   "cell_type": "code",
   "execution_count": null,
   "id": "ebb14d15",
   "metadata": {},
   "outputs": [],
   "source": [
    "%cd $wd/\n",
    "igv_notebook.init()\n",
    "myigv = igv_notebook.Browser(\n",
    "    {\n",
    "        \"genome\": \"mm39\",\n",
    "        \"locus\": \"chr4:10,000,000-150,000,000\"\n",
    "    }\n",
    ")\n",
    "myigv.load_track(\n",
    "{\n",
    "        \"name\": \"BRG1_CnR_con\",\n",
    "        \"url\": \"Submodule2/Visualization/BRG1_CnR_con.mm39_chr4.bw\",\n",
    "        \"format\": \"bigwig\",\n",
    "        \"type\": \"wig\"\n",
    "    }\n",
    "    \n",
    ")\n",
    "myigv.load_track(\n",
    "{\n",
    "        \"name\": \"BRG1_CnR_FLV\",\n",
    "        \"url\": \"Submodule2/Visualization/BRG1_CnR_FLV.mm39_chr4.bw\",\n",
    "        \"format\": \"bigwig\",\n",
    "        \"type\": \"wig\"\n",
    "    }\n",
    "    \n",
    ")\n",
    "myigv.load_track(\n",
    "{\n",
    "        \"name\": \"IgG_CnR\",\n",
    "        \"url\": \"Submodule2/Visualization/IgG_CnR.mm39_chr4.bw\",\n",
    "        \"format\": \"bigwig\",\n",
    "        \"type\": \"wig\"\n",
    "    }\n",
    "    \n",
    ")"
   ]
  },
  {
   "cell_type": "markdown",
   "id": "fcd70d3e",
   "metadata": {},
   "source": [
    "<img src=\"images/CUT&TagLogo.jpg\" alt=\"Drawing\" style=\"width: 120px;\" align=\"left\"/> Run the following command for CUT&Tag datasets."
   ]
  },
  {
   "cell_type": "code",
   "execution_count": null,
   "id": "a1b609df",
   "metadata": {},
   "outputs": [],
   "source": [
    "%cd $wd/\n",
    "igv_notebook.init()\n",
    "myigv = igv_notebook.Browser(\n",
    "    {\n",
    "        \"genome\": \"mm39\",\n",
    "        \"locus\": \"chr4:10,000,000-150,000,000\"\n",
    "    }\n",
    ")\n",
    "myigv.load_track(\n",
    "{\n",
    "        \"name\": \"RNAPII-S5P_CnT_con\",\n",
    "        \"url\": \"Submodule2/Visualization/RNAPII-S5P_CnT_con.mm39_chr4.bw\",\n",
    "        \"format\": \"bigwig\",\n",
    "        \"type\": \"wig\"\n",
    "    }\n",
    "    \n",
    ")\n",
    "myigv.load_track(\n",
    "{\n",
    "        \"name\": \"RNAPII-S5P_CnT_FLV\",\n",
    "        \"url\": \"Submodule2/Visualization/RNAPII-S5P_CnT_FLV.mm39_chr4.bw\",\n",
    "        \"format\": \"bigwig\",\n",
    "        \"type\": \"wig\"\n",
    "    }\n",
    "    \n",
    ")\n",
    "myigv.load_track(\n",
    "{\n",
    "        \"name\": \"IgG_CnT\",\n",
    "        \"url\": \"Submodule2/Visualization/IgG_CnT.mm39_chr4.bw\",\n",
    "        \"format\": \"bigwigh\",\n",
    "        \"type\": \"wig\"\n",
    "    }\n",
    "    \n",
    ")"
   ]
  },
  {
   "cell_type": "markdown",
   "id": "6fa8ee5e-024c-44d6-9f35-c223bb049f26",
   "metadata": {},
   "source": [
    "<div class=\"alert-info\" style=\"font-size:150%\">\n",
    "Average Profiles\n",
    "</div>\n",
    "\n",
    "In addition to browsing, we can make average profiles of signal across specific regions. For example, let's check if there is any signal enrichment around genes. Let's test this using [deeptools](https://anaconda.org/bioconda/deeptools).\n",
    "\n",
    "Deeptools takes in a bigwig file representing the signal. It also takes a bed file representing the features across which one wants to average the signal. In our case the bed file will be composed of gene annotations. Creating the profile will occur in two steps. The first is to create the summarized matrix, while the second plots that data.\n",
    "\n",
    "In the following example, we'll use options which either scale genes to a similar size and plots the average signal across the entire region (ChIP-seq example), or plots the average signal only around the transcription start sites or TSSs of genes (CUT&RUN and CUT&Tag examples).\n",
    "\n",
    "This may take a few minutes: 🕘"
   ]
  },
  {
   "cell_type": "markdown",
   "id": "dbaa8ff7",
   "metadata": {},
   "source": [
    "<img src=\"images/ChIPseqLogo.jpg\" alt=\"Drawing\" style=\"width: 100px;\" align=\"left\" /> Run the following command for ChIP-seq datasets."
   ]
  },
  {
   "cell_type": "code",
   "execution_count": null,
   "id": "294a25a5-3152-4644-9158-9434bb8e0c91",
   "metadata": {},
   "outputs": [],
   "source": [
    "%cd $wd\n",
    "# -S option specifies the bigwig signal file, where we can specify multiple separated by spaces. -R option specifies the genome annotation bed file. -a and -b specify how many bp to plot on either side. \n",
    "!computeMatrix scale-regions -S Submodule2/Visualization/H3K27ac_ChIPseq_noauxdedup.bw Submodule2/Visualization/H3K27ac_ChIPseq_auxdedup.bw -R Submodule2/Submodule2/GenomeAnnotations/mm39v36_chr4_genes.bed -o Submodule2/Visualization/ChIPseq_GeneprofileMatrix -a 2000 -b 2000 --regionBodyLength 2000\n",
    "print(\"done creating the matrix... plotting....\")\n",
    "!plotProfile -m Submodule2/Visualization/ChIPseq_GeneprofileMatrix -o Submodule2/Visualization/ChIPseq_Geneprofile.png --perGroup\n",
    "print(\"done\")"
   ]
  },
  {
   "cell_type": "markdown",
   "id": "fb2eb6b9-15ff-449a-932c-68e8c302b685",
   "metadata": {},
   "source": [
    "Let's view the output:"
   ]
  },
  {
   "cell_type": "code",
   "execution_count": null,
   "id": "23463b55-c96f-496f-9d26-fcb261ad5905",
   "metadata": {},
   "outputs": [],
   "source": [
    "%cd $wd\n",
    "Image(url= \"Submodule2/Visualization/ChIPseq_Geneprofile.png\", width=400, height=400)"
   ]
  },
  {
   "cell_type": "markdown",
   "id": "445b5d33",
   "metadata": {},
   "source": [
    "<img src=\"images/CUT&RUNLogo.jpg\" alt=\"Drawing\" style=\"width: 120px;\" align=\"left\"/> Run the following command for CUT&RUN datasets.\n",
    "\n",
    "</div>This may take a few minutes: 🕘"
   ]
  },
  {
   "cell_type": "code",
   "execution_count": null,
   "id": "3d04ef0d",
   "metadata": {},
   "outputs": [],
   "source": [
    "%cd $wd\n",
    "# -S option specifies the bigwig signal file, where we can specify multiple separated by spaces. -R option specifies the genome annotation bed file. -a and -b specify how many bp to plot on either side. \n",
    "!computeMatrix reference-point -S Submodule2/Visualization/BRG1_CnR_con.mm39_chr4.bw Submodule2/Visualization/BRG1_CnR_FLV.mm39_chr4.bw -R Submodule2/Submodule2/GenomeAnnotations/mm39v36_chr4_genes.bed -o Submodule2/Visualization/CUTnRUN_GeneprofileMatrix -a 5000 -b 5000\n",
    "print(\"done creating the matrix... plotting....\")\n",
    "!plotProfile -m Submodule2/Visualization/CUTnRUN_GeneprofileMatrix -o Submodule2/Visualization/CUTnRUN_Geneprofile.png --perGroup\n",
    "print(\"done\")"
   ]
  },
  {
   "cell_type": "code",
   "execution_count": null,
   "id": "bd6c90d3",
   "metadata": {},
   "outputs": [],
   "source": [
    "%cd $wd\n",
    "Image(url= \"Submodule2/Visualization/CUTnRUN_Geneprofile.png\", width=400, height=400)"
   ]
  },
  {
   "cell_type": "markdown",
   "id": "d5f5e4d5",
   "metadata": {},
   "source": [
    "<img src=\"images/CUT&TagLogo.jpg\" alt=\"Drawing\" style=\"width: 120px;\" align=\"left\"/> Run the following command for CUT&Tag datasets.\n",
    "\n",
    "<div>This may take a few minutes: 🕘"
   ]
  },
  {
   "cell_type": "code",
   "execution_count": null,
   "id": "4feec0c9",
   "metadata": {},
   "outputs": [],
   "source": [
    "%cd $wd\n",
    "# -S option specifies the bigwig signal file, where we can specify multiple separated by spaces. -R option specifies the genome annotation bed file. -a and -b specify how many bp to plot on either side. \n",
    "!computeMatrix reference-point -S Submodule2/Visualization/RNAPII-S5P_CnT_con.mm39_chr4.bw Submodule2/Visualization/RNAPII-S5P_CnT_FLV.mm39_chr4.bw -R Submodule2/Submodule2/GenomeAnnotations/mm39v36_chr4_genes.bed -o Submodule2/Visualization/CUTnTag_GeneprofileMatrix -a 5000 -b 5000\n",
    "print(\"done creating the matrix... plotting....\")\n",
    "!plotProfile -m Submodule2/Visualization/CUTnTag_GeneprofileMatrix -o Submodule2/Visualization/CUTnTag_Geneprofile.png --perGroup\n",
    "print(\"done\")"
   ]
  },
  {
   "cell_type": "code",
   "execution_count": null,
   "id": "2d53747f",
   "metadata": {},
   "outputs": [],
   "source": [
    "%cd $wd\n",
    "Image(url= \"Submodule2/Visualization/CUTnTag_Geneprofile.png\", width=400, height=400)"
   ]
  },
  {
   "cell_type": "markdown",
   "id": "ed5dba3b-71b9-4934-82e8-61d6f09bca99",
   "metadata": {},
   "source": [
    "Later, we'll do some downstream analysis, which will identify differential occupancy and determine where they are relative to genomic features."
   ]
  },
  {
   "cell_type": "markdown",
   "id": "f93f35e6-51d8-429f-956e-33ba25f8be15",
   "metadata": {},
   "source": [
    "<div class=\"alert-info\" style=\"font-size:200%\">\n",
    "STEP 3: Peak Detection\n",
    "</div>\n",
    "\n",
    "<img src=\"images/mountain.jpg\" alt=\"Drawing\" style=\"width: 100px;\"/>\n",
    "\n",
    "Occupied sites are loci with a pileup of reads in \"Peaks\". In the next steps, we'll identify these sites genome-wide.\n",
    "\n",
    "<img src=\"images/peaksofsignal.jpg\" alt=\"Drawing\" style=\"width: 400px;\"/>\n",
    "\n",
    "To call peaks from ChIP-seq data, we'll use macs3, while to call peaks from CUT&RUN and CUT&Tag data, we'll use SEACR which is designed for CUT&RUN and CUT&Tag - read [PMID31300027](https://pubmed.ncbi.nlm.nih.gov/31300027/)"
   ]
  },
  {
   "cell_type": "markdown",
   "id": "9e5afdfe-9bde-41d9-9731-25e8e4f80195",
   "metadata": {},
   "source": [
    "<div class=\"alert-warning\" style=\"font-size:200%\" color=\"black\">\n",
    "A note about controls\n",
    "</div>\n",
    "In ChIP-seq, CUT&RUN, and CUT&Tag it is important to control for non-specific signal enrichment. The processing steps up until this point are exactly the same for those control samples, but we'll use the control samples during peak calling to provide a background level.\n",
    "\n",
    "### Note that control samples are of different kinds for ChIP-seq (input) and CUT&RUN or CUT&Tag (IgG/non-specific antibody).\n",
    "\n",
    "\n",
    "<img src=\"images/ChIPseqLogo.jpg\" alt=\"Drawing\" style=\"width: 100px;\" align=\"left\" /> Run the following command for ChIP-seq datasets.\n",
    "</div>\n",
    "</div>We've prepared the bam files for the Input control samples for you, and specify them in the following command.  "
   ]
  },
  {
   "cell_type": "code",
   "execution_count": null,
   "id": "620bf531-4751-4cc3-86be-c3fa3e38a2e4",
   "metadata": {},
   "outputs": [],
   "source": [
    "!macs3 callpeak -t $wd/Submodule2/Filtering/H3K27ac_ChIPseq_noauxdedup.bam -c $wd/Submodule2/Submodule2/ChIPSeqInputBam/Input_ChIPseq_noaux_dedup.bam -f BAM -g mm -n $wd/Submodule2/Peaks/H3K27ac_ChIPseq_noaux --nomodel\n",
    "#Do it again for the other sample.\n",
    "!macs3 callpeak -t $wd/Submodule2/Filtering/H3K27ac_ChIPseq_auxdedup.bam -c $wd/Submodule2/Submodule2/ChIPSeqInputBam/Input_ChIPseq_aux_dedup.bam -f BAM -g mm -n $wd/Submodule2/Peaks/H3K27ac_ChIPseq_aux --nomodel"
   ]
  },
  {
   "cell_type": "markdown",
   "id": "af2c4b26-d53e-401b-9cd0-521f5707b411",
   "metadata": {},
   "source": [
    "#### Let's count how many \"peaks\" it called. "
   ]
  },
  {
   "cell_type": "code",
   "execution_count": null,
   "id": "02161ad7-2d06-4f99-8825-33cae5b7b6b7",
   "metadata": {},
   "outputs": [],
   "source": [
    "!wc -l $wd/Submodule2/Peaks/H3K27ac_ChIPseq_noaux_peaks.narrowPeak\n",
    "!wc -l $wd/Submodule2/Peaks/H3K27ac_ChIPseq_aux_peaks.narrowPeak"
   ]
  },
  {
   "cell_type": "markdown",
   "id": "9944b37c-bf88-4d5c-b39c-51d09644719b",
   "metadata": {},
   "source": [
    "From the counts above, it looks like auxin-mediated degradation of BAF results in fewer identified H3K27ac sites. Later, we'll use better statistical analysis to identify differences quantitatively"
   ]
  },
  {
   "cell_type": "markdown",
   "id": "fa1e3414-9b44-427d-ad5a-40e7c75f93b7",
   "metadata": {},
   "source": [
    "#### Let's also visualize the peak calls."
   ]
  },
  {
   "cell_type": "code",
   "execution_count": null,
   "id": "1557c346-ea7a-4ba8-995c-413991f40958",
   "metadata": {},
   "outputs": [],
   "source": [
    "%cd $wd\n",
    "igv_notebook.init()\n",
    "myigv = igv_notebook.Browser(\n",
    "    {\n",
    "        \"genome\": \"hg38\",\n",
    "        \"locus\": \"chr4:39,000,000-42,000,000\"\n",
    "    }\n",
    ")\n",
    "myigv.load_track(\n",
    "{\n",
    "        \"name\": \"H3K27ac_ChIPseq_noaux\",\n",
    "        \"url\": \"Submodule2/Visualization/H3K27ac_ChIPseq_noauxdedup.bw\",\n",
    "        \"format\": \"bigwig\",\n",
    "        \"type\": \"wig\"\n",
    "    }\n",
    "    \n",
    ")\n",
    "myigv.load_track(\n",
    "{\n",
    "        \"name\": \"H3K27ac -auxin peaks\",\n",
    "        \"url\": \"Submodule2/Peaks/H3K27ac_ChIPseq_noaux_peaks.narrowPeak\",\n",
    "        \"format\": \"bed\",\n",
    "        \"type\": \"annotation\"\n",
    "    }\n",
    "    \n",
    ")\n",
    "myigv.load_track(\n",
    "{\n",
    "        \"name\": \"H3K27ac_ChIPseq_aux\",\n",
    "        \"url\": \"Submodule2/Visualization/H3K27ac_ChIPseq_auxdedup.bw\",\n",
    "        \"format\": \"bigwig\",\n",
    "        \"type\": \"wig\"\n",
    "    }\n",
    "    \n",
    ")\n",
    "myigv.load_track(\n",
    "{\n",
    "        \"name\": \"H3K27ac +auxin peaks\",\n",
    "        \"url\": \"Submodule2/Peaks/H3K27ac_ChIPseq_aux_peaks.narrowPeak\",\n",
    "        \"format\": \"bed\",\n",
    "        \"type\": \"annotation\"\n",
    "    }\n",
    "    \n",
    ")"
   ]
  },
  {
   "cell_type": "markdown",
   "id": "902b4d5c",
   "metadata": {},
   "source": [
    "<img src=\"images/CUT&RUNLogo.jpg\" alt=\"Drawing\" style=\"width: 120px;\" align=\"left\"/> Run the following command for CUT&RUN datasets.\n"
   ]
  },
  {
   "cell_type": "code",
   "execution_count": null,
   "id": "6f3f674f",
   "metadata": {},
   "outputs": [],
   "source": [
    "#For CUT&RUN, we will use SEACR to call peaks in the BRG1_con and BRG1_FLV data against spike-normalized IgG control using the \"non\" and \"stringent\" modes. You may want to try calling peaks in the \"relaxed\" mode to compare how different they are.\n",
    "%cd $wd/Submodule2/Peaks\n",
    "!SEACR_1.3.sh $wd/Submodule2/Submodule2/Viz/BRG1_CnR_con.bedgraph $wd/Submodule2/Submodule2/Viz/IgG_CnR.bedgraph non stringent BRG1_CnR_con_peaks\n",
    "print(\"done with BRG1_CnR_con\")\n",
    "!SEACR_1.3.sh $wd/Submodule2/Submodule2/Viz/BRG1_CnR_FLV.bedgraph $wd/Submodule2/Submodule2/Viz/IgG_CnR.bedgraph non stringent BRG1_CnR_FLV_peaks\n",
    "print(\"done with BRG1_CnR_con\")"
   ]
  },
  {
   "cell_type": "markdown",
   "id": "83d5a9e2",
   "metadata": {},
   "source": [
    "#### Let's count how many \"peaks\" it called. "
   ]
  },
  {
   "cell_type": "code",
   "execution_count": null,
   "id": "2dccad1a",
   "metadata": {},
   "outputs": [],
   "source": [
    "!wc -l $wd/Submodule2/Peaks/BRG1_CnR_con_peaks.stringent.bed\n",
    "!wc -l $wd/Submodule2/Peaks/BRG1_CnR_FLV_peaks.stringent.bed"
   ]
  },
  {
   "cell_type": "markdown",
   "id": "8efb9b41",
   "metadata": {},
   "source": [
    "#### In the cell below, try calling BRG1_con and BRG1_FLV peaks in the \"relaxed\" mode "
   ]
  },
  {
   "cell_type": "code",
   "execution_count": null,
   "id": "a9172dde",
   "metadata": {},
   "outputs": [],
   "source": []
  },
  {
   "cell_type": "markdown",
   "id": "bece3f84",
   "metadata": {},
   "source": [
    "<img src=\"images/CUT&TagLogo.jpg\" alt=\"Drawing\" style=\"width: 120px;\" align=\"left\"/> Run the following command for CUT&Tag datasets."
   ]
  },
  {
   "cell_type": "code",
   "execution_count": null,
   "id": "68a711ee",
   "metadata": {},
   "outputs": [],
   "source": [
    "#For CUT&Tag, we will use SEACR to call peaks in the RNAPII-S5P_con and RNAPII-S5P_FLV data against spike-normalized IgG control using the \"non\" and \"stringent\" modes. You may want to try calling peaks in the \"relaxed\" mode to compare how different they are.\n",
    "%cd $wd/Submodule2/Peaks\n",
    "!SEACR_1.3.sh $wd/Submodule2/Submodule2/Viz/RNAPII-S5P_CnT_con.bedgraph $wd/Submodule2/Submodule2/Viz/IgG_CnT.bedgraph non stringent RNAPII-S5P_CnT_con_peaks\n",
    "print(\"done with BRG1_CnR_con\")\n",
    "!SEACR_1.3.sh $wd/Submodule2/Submodule2/Viz/RNAPII-S5P_CnT_FLV.bedgraph $wd/Submodule2/Submodule2/Viz/IgG_CnT.bedgraph non stringent RNAPII-S5P_CnT_FLV_peaks\n",
    "print(\"done with BRG1_CnR_con\")"
   ]
  },
  {
   "cell_type": "markdown",
   "id": "b7ab362b",
   "metadata": {},
   "source": [
    "#### Let's count how many \"peaks\" it called. "
   ]
  },
  {
   "cell_type": "code",
   "execution_count": null,
   "id": "28b4facd",
   "metadata": {},
   "outputs": [],
   "source": [
    "!wc -l $wd/Submodule2/Peaks/RNAPII-S5P_CnT_con_peaks.stringent.bed\n",
    "!wc -l $wd/Submodule2/Peaks/RNAPII-S5P_CnT_FLV_peaks.stringent.bed"
   ]
  },
  {
   "cell_type": "markdown",
   "id": "0ab9b073",
   "metadata": {},
   "source": [
    "#### In the cell below, try calling RNAPII-S5P_con and RNAPII-S5P_FLV peaks in the \"relaxed\" mode "
   ]
  },
  {
   "cell_type": "code",
   "execution_count": null,
   "id": "e0ee26ca",
   "metadata": {},
   "outputs": [],
   "source": []
  },
  {
   "cell_type": "markdown",
   "id": "adce2bed-6de0-484a-b014-608d8f4050a4",
   "metadata": {},
   "source": [
    "<div class=\"alert-info\" style=\"font-size:200%\">\n",
    "STEP 4: Differential Peaks\n",
    "</div>\n",
    "\n",
    "We want to identify differences in occupancy. Many people new to analysis will simply intersect peak calls, but we strongly recommend to not take that approach! \n",
    "\n",
    "Peak identification is not perfect, and identification of a peak in one sample, does not mean there wasn't enriched signal in the other! Instead, it only means that the tool had difficulty with identifying that site. Instead of intersecting peaks, let's use a more quantitative approach for differential analysis using [MAnorm](https://github.com/shao-lab/MAnorm).\n",
    "\n",
    "MAnorm makes a master list of peaks (merging peaks called from either sample), and compares the actual signal at these peaks. In doing so, it also normalizes to the signal across the total peaks to try to normalize for immunoprecipitation efficiency."
   ]
  },
  {
   "cell_type": "code",
   "execution_count": null,
   "id": "cd6e4df0-2397-4e28-a801-0aee206d9f70",
   "metadata": {},
   "outputs": [],
   "source": [
    "#We specify both peak files (--p1 and --p2), the format of which is narrowpeak (--pf). We also specify the reads in bam format (--r1 and --r2, and --rf).\n",
    "!manorm --p1 $wd/Submodule2/Peaks/H3K27ac_ChIPseq_noaux_peaks.narrowPeak --p2 $wd/Submodule2/Peaks/H3K27ac_ChIPseq_aux_peaks.narrowPeak --pf narrowpeak --r1 $wd/Submodule2/Filtering/H3K27ac_ChIPseq_noauxdedup.bam --r2 $wd/Submodule2/Filtering/H3K27ac_ChIPseq_auxdedup.bam --rf bam --n1 H3K27ac_noauxin --n2 H3K27ac_auxin -o $wd/Submodule2/MANorm_H3K27ac_ChIPseq\n",
    "#Let's copy these files to have an easier name\n",
    "!cp $wd/Submodule2/MANorm_H3K27ac_ChIPseq/output_filters/H3K27ac_noauxin_vs_H3K27ac_auxin_M_above_1.0_biased_peaks.bed $wd/Submodule2/MANorm_H3K27ac_ChIPseq/H3K27ac_higher_in_noauxin.bed\n",
    "!cp $wd/Submodule2/MANorm_H3K27ac_ChIPseq/output_filters/H3K27ac_noauxin_vs_H3K27ac_auxin_M_below_-1.0_biased_peaks.bed $wd/Submodule2/MANorm_H3K27ac_ChIPseq/H3K27ac_higher_in_auxin.bed"
   ]
  },
  {
   "cell_type": "markdown",
   "id": "158e58a2-fbb0-432c-99fa-fdf49085c85a",
   "metadata": {},
   "source": [
    "<div class=\"alert-warning\" style=\"font-size:150%; color:black\">\n",
    "⬇️ Now, within the following block, try to type out the command to create a plot of the signal on loci with higher H3K27ac occupancy in the noauxin sample. ⬇️\n",
    "</div>"
   ]
  },
  {
   "cell_type": "code",
   "execution_count": null,
   "id": "9da9a098",
   "metadata": {},
   "outputs": [],
   "source": []
  },
  {
   "cell_type": "markdown",
   "id": "2a5bf9f4-6814-4889-86ad-02c9088cbecd",
   "metadata": {},
   "source": [
    "<div class=\"alert alert-block alert-success\" style=\"font-size:120%\">\n",
    "<span style=\"color:black\">Congrats! You have successfully performed some filtering and downstream analysis! Using what you learned above, try adding some cells to this notebook and, for the differential peaks, visualize in IGV, plot the average signal. \n",
    "In the next tutorial, will compare the data to ATAC-seq and RNA-seq data. We highly recommend going through the NIH/NIGMS Sandbox on ATAC-seq and RNA-seq which teach how to generate the differential accessible sites and differentially expressed genes. We'll provide those files and focus on the comparison to chromatin occupancy from ChIP-seq, CUT&RUN, and CUT&Tag.</span>"
   ]
  }
 ],
 "metadata": {
  "kernelspec": {
   "display_name": "conda_pytorch_p310",
   "language": "python",
   "name": "conda_pytorch_p310"
  },
  "language_info": {
   "codemirror_mode": {
    "name": "ipython",
    "version": 3
   },
   "file_extension": ".py",
   "mimetype": "text/x-python",
   "name": "python",
   "nbconvert_exporter": "python",
   "pygments_lexer": "ipython3",
   "version": "3.10.14"
  }
 },
 "nbformat": 4,
 "nbformat_minor": 5
}
