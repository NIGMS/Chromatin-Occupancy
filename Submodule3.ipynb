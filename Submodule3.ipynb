{
 "cells": [
  {
   "cell_type": "markdown",
   "id": "5d4fdc65",
   "metadata": {},
   "source": [
    "# Submodule 3: Data Integration\n",
    "\n",
    "<img src=\"images/LessonPlan3.jpg\" alt=\"Drawing\" width=1000 />\n",
    "\n",
    "## Overview & Purpose\n",
    "## Integration of ChIP-seq, CUT&RUN, and CUT&Tag with each other and with RNA-seq and ATAC-seq\n",
    "This submodule introduces concepts for integrating ChIP-seq, CUT&RUN, and CUT&Tag with RNA-seq and ATAC-seq.   \n",
    "\n",
    "To demonstrate the process, we will build on the analysis performed in submodule 2, where we performed differential peak identification and created signal tracks.  \n",
    "\n",
    "As a reminder, this module covers the processing of the data from three distinct but similar methods using downsampled data to improve runtime speed. The original data was published in :\n",
    "\n",
    "Weber CM, et al. mSWI/SNF promotes Polycomb repression both directly and through genome-wide redistribution. Nat Struct Mol Biol. 2021  PMID: [34117481](https://pubmed.ncbi.nlm.nih.gov/34117481/)\n",
    "\n",
    "Brahma S, Henikoff S. The BAF chromatin remodeler synergizes with RNA polymerase II and transcription factors to evict nucleosomes. Nat Genet. 2024 PMID: [38049663](https://pubmed.ncbi.nlm.nih.gov/38049663/)\n",
    "\n",
    "We'll be comparing these data to RNA-seq and ATAC-seq in mESCs after baf inhibition published by Lurlaro M, et al. Mammalian SWI/SNF continuously restores local accessibility to chromatin. Nat Genet. 2021 PMID: [33558757](https://pubmed.ncbi.nlm.nih.gov/33558757/)\n",
    "\n",
    "<div class=\"alert alert-block alert-warning\" style=\"font-size:100%\">\n",
    "<span style=\"color:black\"> We will be using processed files in this module. If you would like to know how to process RNA-seq or ATAC-seq data from scratch, please complete the other Sandbox modules.</span>\n",
    "</div>\n",
    "\n",
    "Note that to allow faster processing we have limited the reads to that of a single chromosome (chr4).  "
   ]
  },
  {
   "cell_type": "markdown",
   "id": "303a69b9",
   "metadata": {},
   "source": [
    "### Ways to use this module\n",
    "If you used submodule 1 or 2, you may recall how to navigate through the module. Throughout this module, we have color-coded commands according to ChIP-seq, CUT&RUN, and CUT&Tag. Therefore this module can be used to learn about the processing of each method individually, to compare each method to the others, or you can follow the colored commands to only process one type, either ChIP-seq, CUT&RUN, or CUT&Tag.\n",
    "Commands for each method will be designated by an individual logo before the command, just like the following examples"
   ]
  },
  {
   "cell_type": "markdown",
   "id": "c2e4a0ca",
   "metadata": {},
   "source": [
    "<img src=\"images/ChIPseqLogo.jpg\" alt=\"Drawing\" style=\"width: 250px;\" align=\"left\"/>"
   ]
  },
  {
   "cell_type": "code",
   "execution_count": null,
   "id": "73067bbd",
   "metadata": {},
   "outputs": [],
   "source": [
    "#run this cell for ChIP-seq\n",
    "print(\"Code for ChIP-seq will be placed after the above image. Run these cells if performing ChIP-seq analysis.\")"
   ]
  },
  {
   "cell_type": "markdown",
   "id": "1621f0ba",
   "metadata": {},
   "source": [
    "<img src=\"images/CUT&RUNLogo.jpg\" alt=\"Drawing\" style=\"width: 250px;\" align=\"left\"/>"
   ]
  },
  {
   "cell_type": "code",
   "execution_count": null,
   "id": "c2643cda",
   "metadata": {},
   "outputs": [],
   "source": [
    "#run this cell for CUT&RUN\n",
    "print(\"Code for CUT&RUN will be placed after the above image. Run these cells if performing CUT&RUN analysis.\")"
   ]
  },
  {
   "cell_type": "markdown",
   "id": "c2edfd70",
   "metadata": {},
   "source": [
    "<img src=\"images/CUT&TagLogo.jpg\" alt=\"Drawing\" style=\"width: 250px;\" align=\"left\"/>"
   ]
  },
  {
   "cell_type": "code",
   "execution_count": null,
   "id": "dc75cf10",
   "metadata": {},
   "outputs": [],
   "source": [
    "#run this cell for CUT&Tag\n",
    "print(\"Code for CUT&Tag will be placed after the above image. Run these cells if performing CUT&Tag analysis.\")"
   ]
  },
  {
   "cell_type": "markdown",
   "id": "e5df502a",
   "metadata": {},
   "source": [
    "<div class=\"alert alert-block alert-success\" style=\"font-size:100%\">\n",
    "<span style=\"color:black\"> By following the colors/images, you can run one, two, or all three types of analyses.</span>\n",
    "</div>"
   ]
  },
  {
   "cell_type": "markdown",
   "id": "1f5c2622",
   "metadata": {},
   "source": [
    "### Required Files\n",
    "In this stage of the module, you will use the sam files that are the output from submodule 1 (We also provide them if you skipped submodule 1). You can also use this module on your own data or any published ChIP-seq, CUT&RUN, or CUT&Tag dataset. \n",
    "\n",
    "<div class=\"alert-info\" style=\"font-size:200%\">\n",
    "STEP 1: Set Up Environment\n",
    "</div>\n",
    "\n",
    "Initial items to configure your Cloud environment. In this step we will use conda to install the following packages:\n",
    "\n",
    "[deeptools](https://deeptools.readthedocs.io/en/develop/)\n",
    "\n",
    "[bedtools](https://bedtools.readthedocs.io/en/latest/)"
   ]
  },
  {
   "cell_type": "code",
   "execution_count": null,
   "id": "fd1e08bd-33e9-4586-af5a-dd2cdb1ec6da",
   "metadata": {},
   "outputs": [],
   "source": [
    "#First let's install mamba to configure our environment\n",
    "! curl -L -O \"https://github.com/conda-forge/miniforge/releases/latest/download/Miniforge3-$(uname)-$(uname -m).sh\"\n",
    "! bash Miniforge3-$(uname)-$(uname -m).sh -u -b -p $HOME/mambaforge\n",
    "print(\"done\")"
   ]
  },
  {
   "cell_type": "code",
   "execution_count": null,
   "id": "066719b9",
   "metadata": {},
   "outputs": [],
   "source": [
    "#now let's install several required packages\n",
    "!mamba install -c bioconda deeptools bedtools -y\n",
    "!pip install jupyterquiz==2.0.7 jupytercards\n",
    "#!pip install --user igv-notebook\n",
    "print(\"done\")"
   ]
  },
  {
   "cell_type": "code",
   "execution_count": null,
   "id": "59dee8b8-2ac4-45e1-a614-1e0feacdd761",
   "metadata": {},
   "outputs": [],
   "source": [
    "#Now let's import packages that we installed\n",
    "numthreads=!lscpu | grep '^CPU(s)'| awk '{print $2-1}'\n",
    "numthreadsint = int(numthreads[0])\n",
    "import sys\n",
    "import os\n",
    "from jupyterquiz import display_quiz\n",
    "from IPython.display import IFrame\n",
    "#from IPython.display import display\n",
    "from IPython.display import Image\n",
    "from jupytercards import display_flashcards\n",
    "#import igv_notebook\n",
    "import pandas as pd\n",
    "#import modules for matching-type quiz\n",
    "%cd questions\n",
    "from quiz_module import run_quiz\n",
    "%cd ../\n",
    "import json\n",
    "import ipywidgets as widgets\n",
    "from IPython.display import display\n",
    "import random\n",
    "print(\"done\")"
   ]
  },
  {
   "cell_type": "code",
   "execution_count": null,
   "id": "fa96fcf0-8492-43f5-b3d5-0a957e90ca37",
   "metadata": {},
   "outputs": [],
   "source": [
    "wd=\"~/SageMaker/SandboxChromatinOccupancy\"\n",
    "%cd $wd\n",
    "#show which folder you are working in. \n",
    "!pwd"
   ]
  },
  {
   "cell_type": "code",
   "execution_count": null,
   "id": "3c744cbf",
   "metadata": {},
   "outputs": [],
   "source": [
    "# These commands move into our Tutorial 1 directory and create our subdirectory structure.\n",
    "!mkdir -p $wd/Submodule3/\n",
    "%cd $wd/Submodule3/\n",
    "!mkdir -p $wd/Submodule3/RNAseq\n",
    "!mkdir -p $wd/Submodule3/ATACseq"
   ]
  },
  {
   "cell_type": "code",
   "execution_count": null,
   "id": "95e56568-eca4-4e86-a70e-fa221b4fa14c",
   "metadata": {},
   "outputs": [],
   "source": [
    "#Let's copy and extract our tutorial files\n",
    "!wget https://chromatinoccupancytutorial.s3.us-east-2.amazonaws.com/Submodule3.zip\n",
    "!unzip Submodule3.zip"
   ]
  },
  {
   "cell_type": "code",
   "execution_count": null,
   "id": "cec9ee99",
   "metadata": {},
   "outputs": [],
   "source": [
    "#you should see several of the files we created in previous submodules as well as some files from ATAC-seq and RNA-seq that we'll be using to compare.\n",
    "!ls Submodule3_Inputfiles"
   ]
  },
  {
   "cell_type": "markdown",
   "id": "b7fe1e74-0dfa-432f-a70f-3c921db07868",
   "metadata": {},
   "source": [
    "<div class=\"alert-info\" style=\"font-size:200%\">\n",
    "Submodule 3.2: Comparison to ATAC-seq\n",
    "</div>\n",
    "\n",
    "In submodule 2, we performed peak identification and obtained lists of differential peaks. In this module let's test grab see if our differential peaks correspond to sites of differential accessibility, using ATAC-seq.\n",
    "\n",
    "We've prepared the ATAC-seq data for you. To learn how to process ATAC-seq, please visit the relevant NIH/NIGMS Sandbox lesson: [CloudATAC](https://github.com/NIGMS/ATAC-Seq-and-Single-Cell-ATAC-Seq-Analysis).\n",
    "\n",
    "<img src=\"images/cloudATAC.png\" alt=\"Drawing\" style=\"width: 200px;\"/>"
   ]
  },
  {
   "cell_type": "markdown",
   "id": "cfa4584e-7158-45f0-ab21-06ceefe346b3",
   "metadata": {},
   "source": [
    "The ATAC-seq data we'll use compares accessibility in control mESCs (ctl) to that after baf inhibition (bafi). Similar to how we've processed data in this module, the prepped ATAC-seq data has signal tracks for each sample in bigwig format as well as differential accessibility in bed format."
   ]
  },
  {
   "cell_type": "code",
   "execution_count": null,
   "id": "3d14364e-78e0-452c-8af6-5fa02c0d2626",
   "metadata": {},
   "outputs": [],
   "source": [
    "#Let's list the relevant files by using a wildcard:\n",
    "!ls $wd/Submodule3/Submodule3_Inputfiles/*ATAC*"
   ]
  },
  {
   "cell_type": "markdown",
   "id": "91e789ee-fc82-4a3a-a030-7025f83e5473",
   "metadata": {},
   "source": [
    "First, let's plot the average ATAC-seq signal at differential ChIP-seq, CUT&RUN, or CUT&Tag peaks. We'll use deeptools functions computeMatrix and plotProfile, similar to what we did in Submodule 2. However, this time we'll specific the ATAC-seq files as the signal (-S option) in order to plot accessibility across differential ChIP-seq, CUT&RUN, or CUT&Tag peaks (which will be specificied by the -R option)."
   ]
  },
  {
   "cell_type": "markdown",
   "id": "b270a1a9-de96-4778-a351-5c4bc2efe7c1",
   "metadata": {},
   "source": [
    "<img src=\"images/ChIPseqLogo.jpg\" alt=\"Drawing\" style=\"width: 100px;\" align=\"left\" /> Run the following command for ChIP-seq."
   ]
  },
  {
   "cell_type": "code",
   "execution_count": null,
   "id": "17d05fd9-256b-4f90-9268-a2f7ebdc682e",
   "metadata": {},
   "outputs": [],
   "source": [
    "#First compute the signal per region matrix.\n",
    "!computeMatrix reference-point --referencePoint center -S $wd/Submodule3/Submodule3_Inputfiles/ctl_ATAC.bw $wd/Submodule3/Submodule3_Inputfiles/bafi_ATAC.bw -R $wd/Submodule3/Submodule3_Inputfiles/H3K27ac_higher_in_auxin.bed $wd/Submodule3/Submodule3_Inputfiles/H3K27ac_higher_in_noauxin.bed -o $wd/Submodule3/ATACseq/ATAC_on_diffChIPseqprofileMatrix -a 4000 -b 4000\n",
    "!plotProfile -m $wd/Submodule3/ATACseq/ATAC_on_diffChIPseqprofileMatrix -o $wd/Submodule3/ATACseq/ATAC_on_diffChIPseqprofile.png --perGroup"
   ]
  },
  {
   "cell_type": "markdown",
   "id": "00832de7-ace6-402c-a65f-87d91b6143ac",
   "metadata": {},
   "source": [
    "Let's view the output"
   ]
  },
  {
   "cell_type": "code",
   "execution_count": null,
   "id": "6977e801-577e-496f-83b6-c86cd6a95db9",
   "metadata": {},
   "outputs": [],
   "source": [
    "%cd $wd/Submodule3\n",
    "Image(url= \"Submodule3/ATACseq/ATAC_on_diffChIPseqprofile.png\", width=800, height=800)"
   ]
  },
  {
   "cell_type": "code",
   "execution_count": null,
   "id": "d1296597-53f6-40e9-a204-2328e4ed1764",
   "metadata": {},
   "outputs": [],
   "source": [
    "#We can also create a heatmap using the same matrix we created from the computeMatrix command. The command is similar to plotProfile.\n",
    "!plotHeatmap -m $wd/Submodule3/ATACseq/ATAC_on_diffChIPseqprofileMatrix -o $wd/Submodule3/ATACseq/ATAC_on_diffChIPseqheatmap.png --perGroup --colorMap Reds --whatToShow \"heatmap and colorbar\"\n",
    "%cd $wd/Submodule3\n",
    "Image(url= \"Submodule3/ATACseq/ATAC_on_diffChIPseqheatmap.png\", width=200, height=200)"
   ]
  },
  {
   "cell_type": "markdown",
   "id": "e0f99598-d65d-47f3-ab69-e87fcef0dfed",
   "metadata": {},
   "source": [
    "Remember that we are running on very few regions and downsampled data for the sake of this tutorial, so the results are not as clean as a genome-wide analysis. Regardless, these figures demonstrate that the differential H3K27ac peaks do not correspond to pronounced changes in accessibility after baf inhibition (compare ctl to bafi in each category). They do show, however, that sites with H3K27ac higher in auxin are more accessible than sites with H3K27ac higher in no auxin."
   ]
  },
  {
   "cell_type": "markdown",
   "id": "500bf6c1-cd9e-4832-8efa-77bc6f4da4de",
   "metadata": {},
   "source": [
    "<div class=\"alert-info\" style=\"font-size:100%\">\n",
    "Next, let's do the opposite to ask the question: Do differentially accessible sites, have differential occupancy? We can do so by plotting the occupancy signal (bigwig) from ChIP-seq, CUT&RUN, or CUT&Tag across differentially accessible regions (bed). This time we'll do both the plotProfile and plotHeatmap command in the same cell.\n",
    "</div>"
   ]
  },
  {
   "cell_type": "markdown",
   "id": "30d06a5f-ad05-4dc2-a5f5-260a597acd44",
   "metadata": {},
   "source": [
    "<img src=\"images/ChIPseqLogo.jpg\" alt=\"Drawing\" style=\"width: 100px;\" align=\"left\" /> Run the following command for ChIP-seq."
   ]
  },
  {
   "cell_type": "code",
   "execution_count": null,
   "id": "74da8785-60cd-4fb4-94f1-887bb130b0f5",
   "metadata": {},
   "outputs": [],
   "source": [
    "#First compute the signal per region matrix.\n",
    "!computeMatrix reference-point --referencePoint center -S $wd/Submodule3/Submodule3_Inputfiles/H3K27ac_ChIPseq_noauxdedup.bw $wd/Submodule3/Submodule3_Inputfiles/H3K27ac_ChIPseq_auxdedup.bw -R $wd/Submodule3/Submodule3_Inputfiles/IncreasedinbafiATACpeaks.bed $wd/Submodule3/Submodule3_Inputfiles/DecreasedinbafiATACpeaks.bed -o $wd/Submodule3/ATACseq/ChIPseq_on_diffATACseqprofileMatrix -a 4000 -b 4000\n",
    "!plotProfile -m $wd/Submodule3/ATACseq/ChIPseq_on_diffATACseqprofileMatrix -o $wd/Submodule3/ATACseq/ChIPseq_on_diffATACseqprofile.png --perGroup\n",
    "#We can also create a heatmap using the same matrix we created from the computeMatrix command. The command is similar to plotProfile.\n",
    "!plotHeatmap -m $wd/Submodule3/ATACseq/ChIPseq_on_diffATACseqprofileMatrix -o $wd/Submodule3/ATACseq/ChIPseq_on_diffATACseqheatmap.png --perGroup --colorMap Reds --whatToShow \"heatmap and colorbar\""
   ]
  },
  {
   "cell_type": "markdown",
   "id": "9b274c95-d05d-4651-b6a8-e0a5d78a17cd",
   "metadata": {},
   "source": [
    "Let's view the profile:"
   ]
  },
  {
   "cell_type": "code",
   "execution_count": null,
   "id": "839428db-3915-4b68-87e8-86de30107b2e",
   "metadata": {},
   "outputs": [],
   "source": [
    "%cd $wd/Submodule3\n",
    "Image(url= \"Submodule3/ATACseq/ChIPseq_on_diffATACseqprofile.png\", width=800, height=800)"
   ]
  },
  {
   "cell_type": "code",
   "execution_count": null,
   "id": "4755768e-0a0e-4e32-a933-bb8a9e4e66b0",
   "metadata": {},
   "outputs": [],
   "source": [
    "#and the heatmap\n",
    "Image(url= \"Submodule3/ATACseq/ChIPseq_on_diffATACseqheatmap.png\", width=200, height=200)"
   ]
  },
  {
   "cell_type": "markdown",
   "id": "066e74c2-b5ae-43a6-b6c4-069a8edc32da",
   "metadata": {},
   "source": [
    "<div class=\"alert-info\" style=\"font-size:100%\">\n",
    "Let's say, instead of just plotting the signal across all these sites, we want to directly identify if any peaks are changed in both ATAC-seq and ChIP-seq, CUT&RUN, or CUT&Tag. ncy signal (bigwig) from ChIP-seq, CUT&RUN, or CUT&Tag across differentially accessible regions (bed). We can do so by intersecting the peaks in each file.\n",
    "</div>\n",
    "<img src=\"images/bedtoolsintersect.png\" alt=\"Drawing\" style=\"width: 300px;\" align=\"left\" />"
   ]
  },
  {
   "cell_type": "code",
   "execution_count": null,
   "id": "3c5d1470-5f07-4961-97a6-8f5724bd7ecd",
   "metadata": {},
   "outputs": [],
   "source": [
    "#intersect and count how many H3K27ac higer in auxin have decreased accessibility in bafi.\n",
    "!intersectBed -u -a $wd/Submodule3/Submodule3_Inputfiles/H3K27ac_higher_in_auxin.bed -b $wd/Submodule3/Submodule3_Inputfiles/DecreasedinbafiATACpeaks.bed | wc -l"
   ]
  },
  {
   "cell_type": "markdown",
   "id": "269a1c84-62b9-49b3-8b66-1af7479d11ac",
   "metadata": {},
   "source": [
    "<div class=\"alert-success\" style=\"font-size:100%\">\n",
    "This showed that only 5 of the peaks in \"H3K27ac_higher_in_auxin.bed\" overlapped that of \"DecreasedinbafiATACpeaks.bed\". (Remember that these are severely downsampled files.)\n",
    "How do we know if that overlap is more than you would expect by chance?\n",
    "</div>"
   ]
  },
  {
   "cell_type": "code",
   "execution_count": null,
   "id": "630f55f2-7c9a-4674-bb8a-655c09eb6529",
   "metadata": {},
   "outputs": [],
   "source": [
    "#We can take a set of random unchanged peaks to see if we get the same overlap. First let's count how many DecreasedinbafiATACpeaks.bed there are.\n",
    "!wc -l $wd/Submodule3/Submodule3_Inputfiles/DecreasedinbafiATACpeaks.bed"
   ]
  },
  {
   "cell_type": "code",
   "execution_count": null,
   "id": "cb6d2181-e45b-4ff6-9558-0d413cddf3e3",
   "metadata": {},
   "outputs": [],
   "source": [
    "#The previous command showed that there are 442 Decreased peaks that we used in the intersection analysis. Let's grab the same number of randomly selected unchanged peaks.\n",
    "!shuf -n 442 $wd/Submodule3/Submodule3_Inputfiles/UnchangedATACpeaks.bed > $wd/Submodule3/ATACseq/randomATACpeaks.bed\n",
    "#Now let's do the intersection!\n",
    "!intersectBed -u -a $wd/Submodule3/Submodule3_Inputfiles/H3K27ac_higher_in_auxin.bed -b $wd/Submodule3/ATACseq/randomATACpeaks.bed | wc -l"
   ]
  },
  {
   "cell_type": "markdown",
   "id": "259c75ee-b6c2-4b42-a5f3-dd05a70c1fb6",
   "metadata": {},
   "source": [
    "<div class=\"alert-warning\" style=\"font-size:200%\">Note: the number resulting from the above command will change every time because of the randomization.</div>\n",
    "\n",
    "How do we find out if the observed overlap is significantly higher than random loci?"
   ]
  },
  {
   "cell_type": "markdown",
   "id": "20ab0ac6-0729-4db4-8a11-24760b8727b4",
   "metadata": {},
   "source": [
    "<img src=\"images/permutationexample.gif\" alt=\"Drawing\" style=\"width: 500px;\" align=\"left\" />\n",
    "\n",
    "Permutation testing is a good way to test if your overlap is more than what you might expect from random peaks. This method can be used to derive the expected value as well as a significance score for the overlap. The expected value is the average overlap in your randomized permutations. The significance is the number of permutations that matched or were higher than your observed overlap out of the total number of permutations that you ran. For example if you ran 1000 permutations and only one was equal to your observed overlap, we can represent the p-value as 1/1000 (p=.001). \n",
    "\n",
    "Notice that your minimum p-value is defined by the number of permutations that you run (i.e. you cannot get a p-value of 0.001 if you only ran 100 permutations)."
   ]
  },
  {
   "cell_type": "code",
   "execution_count": null,
   "id": "24ac62fd-9e90-45d2-9cef-533d63f150bb",
   "metadata": {},
   "outputs": [],
   "source": [
    "#Let's try it out by running the randomization 100 times! \n",
    "#First let's make an empty list to which we'll append the results of each permutation\n",
    "randomoverlaps=[]\n",
    "NumberofPermutations=100\n",
    "\n",
    "#Now let's do the randomization and overlap 100 times\n",
    "import statistics\n",
    "permutation=1\n",
    "while permutation <= NumberofPermutations:\n",
    "    overlap=!shuf -n 442 $wd/Submodule3/Submodule3_Inputfiles/UnchangedATACpeaks.bed | intersectBed -u -a $wd/Submodule3/Submodule3_Inputfiles/H3K27ac_higher_in_auxin.bed -b stdin | wc -l\n",
    "    randomoverlaps.append(int(overlap[0]))\n",
    "    permutation+=1\n",
    "\n",
    "#Now let's get the average overlap in the permutations\n",
    "print(\"mean of the permutations is: \" + str(statistics.mean(randomoverlaps)))\n",
    "\n",
    "#And get the p-value by counting how many permutations had an overlap of at least 5\n",
    "permcount=len([permut for permut in randomoverlaps if permut >= 5])\n",
    "print(\"count of permutations equal or higher than observed: \" + str(permcount))\n",
    "print(\"therefore, the p-value using \" + str(NumberofPermutations) + \" permutations is: \" + str(permcount/NumberofPermutations))"
   ]
  },
  {
   "cell_type": "markdown",
   "id": "b7da733c-f147-4a93-8cfd-12b8b8431e0b",
   "metadata": {},
   "source": [
    "<div class=\"alert-warning\" style=\"font-size:100%\">Note: the exact p-values will change every time because of the randomization, however they should hover around the approximately the same. Permutation testing works better with a higher number of peaks than what we used in our example (due to downsampling of the data).</div>"
   ]
  },
  {
   "cell_type": "markdown",
   "id": "e9ea1cdc-1a97-41af-b0bf-ace83d410887",
   "metadata": {},
   "source": [
    "<div class=\"alert-info\" style=\"font-size:200%\">\n",
    "Interactive Quiz Question: Click on the correct answer in following cell.\n",
    "</div>"
   ]
  },
  {
   "cell_type": "code",
   "execution_count": null,
   "id": "3029d98d-b495-474b-a9d9-8946c72b74b5",
   "metadata": {},
   "outputs": [],
   "source": [
    "#Run for the quiz\n",
    "%cd $wd/Submodule3\n",
    "run_quiz(\"../questions/PermutationTesting.json\", instant_feedback=True, shuffle_questions=False, shuffle_answers=True)"
   ]
  },
  {
   "cell_type": "markdown",
   "id": "947282f5-9374-4f0a-aef5-8b9195f48ea2",
   "metadata": {},
   "source": [
    "<div class=\"alert-info\" style=\"font-size:200%\">\n",
    "Submodule 3.3: Comparison to RNA-seq\n",
    "</div>\n",
    "\n",
    "Now, Let's see if our differential peaks correspond to differentially expressed genes.\n",
    "\n",
    "We've prepared the RNA-seq data for you. To learn how to process RNA-seq, please visit the relevant NIH/NIGMS Sandbox lesson: [RNA-seq](https://github.com/NIGMS/RNA-Seq-Differential-Expression-Analysis).\n",
    "\n",
    "<img src=\"images/SandBoxRNAseq.png\" alt=\"Drawing\" style=\"width: 200px;\"/>\n",
    "\n",
    "Let's start this analysis after calling differentially expressed genes (DEGs)."
   ]
  },
  {
   "cell_type": "code",
   "execution_count": null,
   "id": "6a67c50a-02da-4da8-98c0-23484b8330a6",
   "metadata": {},
   "outputs": [],
   "source": [
    "#Let's get the genomic coordinates of these genes by matching the names of DEGs to those of a total list of genes and their coordinates from a bed file.\n",
    "%cd $wd/Submodule3\n",
    "\n",
    "#First, let's make sure the DEGs list is sorted.\n",
    "!sort -k 1b,1b --stable $wd/Submodule3/Submodule3_Inputfiles/degs.txt > $wd/Submodule3/RNAseq/degs_sorted.txt\n",
    "\n",
    "#Next let's also sort the list of total genes. Note that in this file that gene names are in the 5th column:\n",
    "!sort -k 5b,5b --stable $wd/Submodule3/Submodule3_Inputfiles/chr4genes_mm39rnaseq.bed > $wd/Submodule3/RNAseq/allgenes_sorted.txt\n",
    "\n",
    "#Now let's use the join function to only keep genes that are in my list of degs. Note that join replaces tabs with spaces, so we'll also make sure the output is tab separated using the sed function.\n",
    "#We use -1 1 to denote that the gene names are in column #1 of our first file, and we use -2 5 to denote that the gene names are in column #5 of our second file.\n",
    "!join -1 1 -2 5 $wd/Submodule3/RNAseq/degs_sorted.txt $wd/Submodule3/RNAseq/allgenes_sorted.txt | sed -e 's/ /\\t/g' > $wd/Submodule3/RNAseq/degs_coordinates.txt\n"
   ]
  },
  {
   "cell_type": "code",
   "execution_count": null,
   "id": "2734f655-70ff-4381-9d2b-6c9e95bebd9d",
   "metadata": {},
   "outputs": [],
   "source": [
    "#Let's look at the first 10 lines of the resulting file:\n",
    "!head $wd/Submodule3/RNAseq/degs_coordinates.txt"
   ]
  },
  {
   "cell_type": "markdown",
   "id": "c742e47a-8be7-4ce1-af9b-b37bd472889d",
   "metadata": {},
   "source": [
    "Now that we have a file with the coordinates of our differentially expressed genes, we can reformat it so that we can plot our ChIP-seq, CUT&RUN, or CUT&Tag signal near these genes.\n",
    "Let's reformat as a bed format: [bed](http://useast.ensembl.org/info/website/upload/bed.html)"
   ]
  },
  {
   "cell_type": "code",
   "execution_count": null,
   "id": "8540f8d0-7cee-4797-833e-1687e6adc1c7",
   "metadata": {},
   "outputs": [],
   "source": [
    "%cd $wd/Submodule3\n",
    "#Use awk to rearrange and fill in empty columns.\n",
    "!awk '{print $2\"\\t\"$3\"\\t\"$4\"\\t\"$1\"\\t255\\t\"$5}' RNAseq/degs_coordinates.txt > RNAseq/degs_coordinates.bed\n",
    "\n",
    "#Now use deeptools computeMatrix, but this time we'll use the scale-regions function. Note the use of -m this tim to specify how big to plot the inside of the gene.\n",
    "!computeMatrix scale-regions -S $wd/Submodule3/Submodule3_Inputfiles/H3K27ac_ChIPseq_noauxdedup.bw $wd/Submodule3/Submodule3_Inputfiles/H3K27ac_ChIPseq_auxdedup.bw -R $wd/Submodule3/RNAseq/degs_coordinates.bed -o $wd/Submodule3/RNAseq/degProfileMatrix -a 4000 -b 4000 -m 4000\n",
    "!plotProfile -m $wd/Submodule3/RNAseq/degProfileMatrix -o $wd/Submodule3/RNAseq/ChIPseq_on_degs_profile.png --perGroup"
   ]
  },
  {
   "cell_type": "code",
   "execution_count": null,
   "id": "49a86750-d6ed-4d85-a7b2-0231f0b206e5",
   "metadata": {},
   "outputs": [],
   "source": [
    "%cd $wd/Submodule3\n",
    "Image(url= \"Submodule3/RNAseq/ChIPseq_on_degs_profile.png\", width=400, height=400)"
   ]
  },
  {
   "cell_type": "markdown",
   "id": "2b0b704a-d75f-4b02-9173-38a3da1ca9f8",
   "metadata": {},
   "source": [
    "<div class=\"alert-info\" style=\"font-size:100%\">\n",
    "Let's say, instead of just plotting the signal across all these sites, we want to directly extract genes that have differential occupancy near the TSS. Similar to above we can use bedtools intersect, but first we need to create a file with the region around the TSS that we want to test.\n",
    "\n",
    "However, for genes the strand matters! For genes that are on the + strand, the TSS is in the 2nd column. But, for gene on the - strand, the TSS is in the 3rd column! \n",
    "</div>\n",
    "<img src=\"images/BEDgeneorientation.jpg\" alt=\"Drawing\" style=\"width: 500px;\" align=\"left\" />\n",
    "\n",
    "</b>\n",
    "When we used deeptools, it read the strand from the 6th column to correctly orient the genes. Below, we'll take 500 bp around the TSS by integrating the strand information."
   ]
  },
  {
   "cell_type": "code",
   "execution_count": null,
   "id": "a050b57d-b46f-4385-bc88-8dbea8cddcab",
   "metadata": {},
   "outputs": [],
   "source": [
    "#create a file with the TSS and 250 bp upstream an downstream.\n",
    "%cd $wd/Submodule3\n",
    "!awk '{if ($6 == \"+\") print $1\"\\t\"$2-250\"\\t\"$2+250\"\\t\"$4\"\\t\"$5\"\\t\"$6; else print $1\"\\t\"$3-250\"\\t\"$3+250\"\\t\"$4\"\\t\"$5\"\\t\"$6}' RNAseq/degs_coordinates.bed > RNAseq/degs_TSS.bed\n",
    "\n",
    "#Prep the total H3K27ac peaks from the xls file produced by manorm in Submodule2, by removing the header and keeping only columns 1-3.\n",
    "!cat $wd/Submodule3/Submodule3_Inputfiles/H3K27ac_noauxin_vs_H3K27ac_auxin_all_MAvalues.xls | grep -v start | cut -f 1-3 > $wd/Submodule3/RNAseq/TotalChIPseqPeaks.txt\n",
    "\n",
    "#Now use intersectBed with our total peaks.\n",
    "!intersectBed -u -a $wd/Submodule3/RNAseq/degs_TSS.bed -b $wd/Submodule3/RNAseq/TotalChIPseqPeaks.txt > $wd/Submodule3/RNAseq/degs_withH3K27ac.bed\n",
    "\n",
    "#let's look at the first 10 lines\n",
    "!head $wd/Submodule3/RNAseq/degs_withH3K27ac.bed\n",
    "\n",
    "#Let's also count how many:\n",
    "!wc -l $wd/Submodule3/RNAseq/degs_withH3K27ac.bed"
   ]
  },
  {
   "cell_type": "markdown",
   "id": "f3e4f551-4f7b-4153-813e-4891128462f1",
   "metadata": {},
   "source": [
    "### Similar to above, we can do permutation testing to see if this overlap is significant:"
   ]
  },
  {
   "cell_type": "code",
   "execution_count": null,
   "id": "cbc58bb5-0b93-475f-8410-e4ac9bccbd0a",
   "metadata": {},
   "outputs": [],
   "source": [
    "!wc -l RNAseq/degs_TSS.bed"
   ]
  },
  {
   "cell_type": "code",
   "execution_count": null,
   "id": "621016ae-8cf4-4430-acbb-24fdf70212ef",
   "metadata": {},
   "outputs": [],
   "source": [
    "#First let's reformat our total genes list to follow the 6 column format, and get only 250 bp on either side of the TSS.\n",
    "%cd $wd/Submodule3\n",
    "!cat Submodule3_Inputfiles/chr4genes_mm39rnaseq.bed | awk '{print $1\"\\t\"$2\"\\t\"$3\"\\t\"$5\"\\t255\\t\"$4}' | awk '{if ($6 == \"+\") print $1\"\\t\"$2-250\"\\t\"$2+250\"\\t\"$4\"\\t\"$5\"\\t\"$6; else print $1\"\\t\"$3-250\"\\t\"$3+250\"\\t\"$4\"\\t\"$5\"\\t\"$6}' > RNAseq/total_TSSs.bed\n",
    "#First let's make an empty list to which we'll append the results of each permutation\n",
    "randomoverlaps=[]\n",
    "NumberofPermutations=100\n",
    "\n",
    "#Now let's do the randomization and overlap 100 times. There were 45 degs in our list, so lets take the same number of random genes.\n",
    "import statistics\n",
    "permutation=1\n",
    "while permutation <= NumberofPermutations:\n",
    "    overlap=!shuf -n 45 RNAseq/total_TSSs.bed | intersectBed -u -a stdin -b $wd/Submodule3/RNAseq/TotalChIPseqPeaks.txt | wc -l\n",
    "    randomoverlaps.append(int(overlap[0]))\n",
    "    permutation+=1\n",
    "\n",
    "#Now let's get the average overlap in the permutations\n",
    "print(\"mean of the permutations is: \" + str(statistics.mean(randomoverlaps)))\n",
    "\n",
    "#And get the p-value by counting how many permutations had an overlap of at least 13, which was our observed value\n",
    "permcount=len([permut for permut in randomoverlaps if permut >= 13])\n",
    "print(\"count of permutations equal or higher than observed: \" + str(permcount))\n",
    "print(\"therefore, the p-value using \" + str(NumberofPermutations) + \" permutations is: \" + str(permcount/NumberofPermutations))"
   ]
  },
  {
   "cell_type": "code",
   "execution_count": null,
   "id": "7560d01b-38d6-415d-a6f7-e096774fceb4",
   "metadata": {},
   "outputs": [],
   "source": [
    "%cd $wd\n",
    "#Run for the quiz\n",
    "run_quiz(\"./questions/geneformat.json\", instant_feedback=True, shuffle_questions=True, shuffle_answers=True)"
   ]
  },
  {
   "cell_type": "markdown",
   "id": "5d00ee64-4069-436d-8981-947af8e43ebc",
   "metadata": {},
   "source": [
    "<div class=\"alert alert-block alert-success\" style=\"font-size:120%\">\n",
    "<span style=\"color:black\">Congrats! You have successfully performed some analysis and visualization comparison of ATAC-seq and RNA-seq to that of chromatin occupancy obtained by ChIP-seq, CUT&RUN, or CUT&Tag. Thank you for completing this module!</span></div>"
   ]
  },
  {
   "cell_type": "code",
   "execution_count": null,
   "id": "4cedb8c9-5890-457d-8538-ccfacf69fff2",
   "metadata": {},
   "outputs": [],
   "source": []
  }
 ],
 "metadata": {
  "kernelspec": {
   "display_name": "conda_python3",
   "language": "python",
   "name": "conda_python3"
  },
  "language_info": {
   "codemirror_mode": {
    "name": "ipython",
    "version": 3
   },
   "file_extension": ".py",
   "mimetype": "text/x-python",
   "name": "python",
   "nbconvert_exporter": "python",
   "pygments_lexer": "ipython3",
   "version": "3.10.16"
  }
 },
 "nbformat": 4,
 "nbformat_minor": 5
}
